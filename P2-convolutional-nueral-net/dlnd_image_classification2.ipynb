{
 "cells": [
  {
   "cell_type": "markdown",
   "metadata": {
    "collapsed": true
   },
   "source": [
    "# Image Classification\n",
    "In this project, you'll classify images from the [CIFAR-10 dataset](https://www.cs.toronto.edu/~kriz/cifar.html).  The dataset consists of airplanes, dogs, cats, and other objects. You'll preprocess the images, then train a convolutional neural network on all the samples. The images need to be normalized and the labels need to be one-hot encoded.  You'll get to apply what you learned and build a convolutional, max pooling, dropout, and fully connected layers.  At the end, you'll get to see your neural network's predictions on the sample images.\n",
    "## Get the Data\n",
    "Run the following cell to download the [CIFAR-10 dataset for python](https://www.cs.toronto.edu/~kriz/cifar-10-python.tar.gz)."
   ]
  },
  {
   "cell_type": "code",
   "execution_count": 1,
   "metadata": {
    "collapsed": false
   },
   "outputs": [
    {
     "name": "stdout",
     "output_type": "stream",
     "text": [
      "All files found!\n"
     ]
    }
   ],
   "source": [
    "\"\"\"\n",
    "DON'T MODIFY ANYTHING IN THIS CELL THAT IS BELOW THIS LINE\n",
    "\"\"\"\n",
    "from urllib.request import urlretrieve\n",
    "from os.path import isfile, isdir\n",
    "from tqdm import tqdm\n",
    "import problem_unittests as tests\n",
    "import tarfile\n",
    "\n",
    "cifar10_dataset_folder_path = 'cifar-10-batches-py'\n",
    "\n",
    "class DLProgress(tqdm):\n",
    "    last_block = 0\n",
    "\n",
    "    def hook(self, block_num=1, block_size=1, total_size=None):\n",
    "        self.total = total_size\n",
    "        self.update((block_num - self.last_block) * block_size)\n",
    "        self.last_block = block_num\n",
    "\n",
    "if not isfile('cifar-10-python.tar.gz'):\n",
    "    with DLProgress(unit='B', unit_scale=True, miniters=1, desc='CIFAR-10 Dataset') as pbar:\n",
    "        urlretrieve(\n",
    "            'https://www.cs.toronto.edu/~kriz/cifar-10-python.tar.gz',\n",
    "            'cifar-10-python.tar.gz',\n",
    "            pbar.hook)\n",
    "\n",
    "if not isdir(cifar10_dataset_folder_path):\n",
    "    with tarfile.open('cifar-10-python.tar.gz') as tar:\n",
    "        tar.extractall()\n",
    "        tar.close()\n",
    "\n",
    "\n",
    "tests.test_folder_path(cifar10_dataset_folder_path)"
   ]
  },
  {
   "cell_type": "markdown",
   "metadata": {},
   "source": [
    "## Explore the Data\n",
    "The dataset is broken into batches to prevent your machine from running out of memory.  The CIFAR-10 dataset consists of 5 batches, named `data_batch_1`, `data_batch_2`, etc.. Each batch contains the labels and images that are one of the following:\n",
    "* airplane\n",
    "* automobile\n",
    "* bird\n",
    "* cat\n",
    "* deer\n",
    "* dog\n",
    "* frog\n",
    "* horse\n",
    "* ship\n",
    "* truck\n",
    "\n",
    "Understanding a dataset is part of making predictions on the data.  Play around with the code cell below by changing the `batch_id` and `sample_id`. The `batch_id` is the id for a batch (1-5). The `sample_id` is the id for a image and label pair in the batch.\n",
    "\n",
    "Ask yourself \"What are all possible labels?\", \"What is the range of values for the image data?\", \"Are the labels in order or random?\".  Answers to questions like these will help you preprocess the data and end up with better predictions."
   ]
  },
  {
   "cell_type": "code",
   "execution_count": 2,
   "metadata": {
    "collapsed": false
   },
   "outputs": [
    {
     "name": "stdout",
     "output_type": "stream",
     "text": [
      "\n",
      "Stats of batch 2:\n",
      "Samples: 10000\n",
      "Label Counts: {0: 984, 1: 1007, 2: 1010, 3: 995, 4: 1010, 5: 988, 6: 1008, 7: 1026, 8: 987, 9: 985}\n",
      "First 20 Labels: [1, 6, 6, 8, 8, 3, 4, 6, 0, 6, 0, 3, 6, 6, 5, 4, 8, 3, 2, 6]\n",
      "\n",
      "Example of Image 9:\n",
      "Image - Min Value: 40 Max Value: 229\n",
      "Image - Shape: (32, 32, 3)\n",
      "Label - Label Id: 6 Name: frog\n"
     ]
    },
    {
     "data": {
      "image/png": "[encoded data removed]",
      "text/plain": [
       "<matplotlib.figure.Figure at 0x4d18908>"
      ]
     },
     "metadata": {
      "image/png": {
       "height": 250,
       "width": 253
      }
     },
     "output_type": "display_data"
    }
   ],
   "source": [
    "%matplotlib inline\n",
    "%config InlineBackend.figure_format = 'retina'\n",
    "\n",
    "import helper\n",
    "import numpy as np\n",
    "\n",
    "# Explore the dataset\n",
    "batch_id = 2\n",
    "sample_id = 9\n",
    "helper.display_stats(cifar10_dataset_folder_path, batch_id, sample_id)"
   ]
  },
  {
   "cell_type": "markdown",
   "metadata": {},
   "source": [
    "## Implement Preprocess Functions\n",
    "### Normalize\n",
    "In the cell below, implement the `normalize` function to take in image data, `x`, and return it as a normalized Numpy array. The values should be in the range of 0 to 1, inclusive.  The return object should be the same shape as `x`."
   ]
  },
  {
   "cell_type": "code",
   "execution_count": 3,
   "metadata": {
    "collapsed": false
   },
   "outputs": [
    {
     "name": "stdout",
     "output_type": "stream",
     "text": [
      "Tests Passed\n"
     ]
    }
   ],
   "source": [
    "def normalize(x):\n",
    "    \"\"\"\n",
    "    Normalize a list of sample image data in the range of 0 to 1\n",
    "    : x: List of image data.  The image shape is (32, 32, 3)\n",
    "    : return: Numpy array of normalize data\n",
    "    \"\"\"\n",
    "    # TODO: Implement Function\n",
    "    return np.array((x) / (255))\n",
    "\n",
    "\n",
    "\"\"\"\n",
    "DON'T MODIFY ANYTHING IN THIS CELL THAT IS BELOW THIS LINE\n",
    "\"\"\"\n",
    "tests.test_normalize(normalize)"
   ]
  },
  {
   "cell_type": "markdown",
   "metadata": {},
   "source": [
    "### One-hot encode\n",
    "Just like the previous code cell, you'll be implementing a function for preprocessing.  This time, you'll implement the `one_hot_encode` function. The input, `x`, are a list of labels.  Implement the function to return the list of labels as One-Hot encoded Numpy array.  The possible values for labels are 0 to 9. The one-hot encoding function should return the same encoding for each value between each call to `one_hot_encode`.  Make sure to save the map of encodings outside the function.\n",
    "\n",
    "Hint: Don't reinvent the wheel."
   ]
  },
  {
   "cell_type": "code",
   "execution_count": 4,
   "metadata": {
    "collapsed": false,
    "scrolled": false
   },
   "outputs": [
    {
     "name": "stdout",
     "output_type": "stream",
     "text": [
      "Tests Passed\n"
     ]
    }
   ],
   "source": [
    "from sklearn import preprocessing\n",
    "\n",
    "def one_hot_encode(x):\n",
    "    \"\"\"\n",
    "    One hot encode a list of sample labels. Return a one-hot encoded vector for each label.\n",
    "    : x: List of sample Labels\n",
    "    : return: Numpy array of one-hot encoded labels\n",
    "    \"\"\"\n",
    "    # TODO: Implement Function\n",
    "    lb = preprocessing.LabelBinarizer()\n",
    "    lb.fit(x)\n",
    "    lb.classes_ = [0, 1, 2, 3, 4, 5, 6, 7, 8, 9]\n",
    "    return lb.transform(x)\n",
    "\n",
    "\n",
    "\n",
    "\"\"\"\n",
    "DON'T MODIFY ANYTHING IN THIS CELL THAT IS BELOW THIS LINE\n",
    "\"\"\"\n",
    "tests.test_one_hot_encode(one_hot_encode)"
   ]
  },
  {
   "cell_type": "markdown",
   "metadata": {},
   "source": [
    "### Randomize Data\n",
    "As you saw from exploring the data above, the order of the samples are randomized.  It doesn't hurt to randomize it again, but you don't need to for this dataset."
   ]
  },
  {
   "cell_type": "markdown",
   "metadata": {},
   "source": [
    "## Preprocess all the data and save it\n",
    "Running the code cell below will preprocess all the CIFAR-10 data and save it to file. The code below also uses 10% of the training data for validation."
   ]
  },
  {
   "cell_type": "code",
   "execution_count": 5,
   "metadata": {
    "collapsed": false
   },
   "outputs": [],
   "source": [
    "\"\"\"\n",
    "DON'T MODIFY ANYTHING IN THIS CELL\n",
    "\"\"\"\n",
    "# Preprocess Training, Validation, and Testing Data\n",
    "helper.preprocess_and_save_data(cifar10_dataset_folder_path, normalize, one_hot_encode)"
   ]
  },
  {
   "cell_type": "markdown",
   "metadata": {},
   "source": [
    "# Check Point\n",
    "This is your first checkpoint.  If you ever decide to come back to this notebook or have to restart the notebook, you can start from here.  The preprocessed data has been saved to disk."
   ]
  },
  {
   "cell_type": "code",
   "execution_count": 6,
   "metadata": {
    "collapsed": false
   },
   "outputs": [],
   "source": [
    "\"\"\"\n",
    "DON'T MODIFY ANYTHING IN THIS CELL\n",
    "\"\"\"\n",
    "import pickle\n",
    "import problem_unittests as tests\n",
    "import helper\n",
    "\n",
    "# Load the Preprocessed Validation data\n",
    "valid_features, valid_labels = pickle.load(open('preprocess_validation.p', mode='rb'))"
   ]
  },
  {
   "cell_type": "markdown",
   "metadata": {},
   "source": [
    "## Build the network\n",
    "For the neural network, you'll build each layer into a function.  Most of the code you've seen has been outside of functions. To test your code more thoroughly, we require that you put each layer in a function.  This allows us to give you better feedback and test for simple mistakes using our unittests before you submit your project.\n",
    "\n",
    ">**Note:** If you're finding it hard to dedicate enough time for this course each week, we've provided a small shortcut to this part of the project. In the next couple of problems, you'll have the option to use classes from the [TensorFlow Layers](https://www.tensorflow.org/api_docs/python/tf/layers) or [TensorFlow Layers (contrib)](https://www.tensorflow.org/api_guides/python/contrib.layers) packages to build each layer, except the layers you build in the \"Convolutional and Max Pooling Layer\" section.  TF Layers is similar to Keras's and TFLearn's abstraction to layers, so it's easy to pickup.\n",
    "\n",
    ">However, if you would like to get the most out of this course, try to solve all the problems _without_ using anything from the TF Layers packages. You **can** still use classes from other packages that happen to have the same name as ones you find in TF Layers! For example, instead of using the TF Layers version of the `conv2d` class, [tf.layers.conv2d](https://www.tensorflow.org/api_docs/python/tf/layers/conv2d), you would want to use the TF Neural Network version of `conv2d`, [tf.nn.conv2d](https://www.tensorflow.org/api_docs/python/tf/nn/conv2d). \n",
    "\n",
    "Let's begin!\n",
    "\n",
    "### Input\n",
    "The neural network needs to read the image data, one-hot encoded labels, and dropout keep probability. Implement the following functions\n",
    "* Implement `neural_net_image_input`\n",
    " * Return a [TF Placeholder](https://www.tensorflow.org/api_docs/python/tf/placeholder)\n",
    " * Set the shape using `image_shape` with batch size set to `None`.\n",
    " * Name the TensorFlow placeholder \"x\" using the TensorFlow `name` parameter in the [TF Placeholder](https://www.tensorflow.org/api_docs/python/tf/placeholder).\n",
    "* Implement `neural_net_label_input`\n",
    " * Return a [TF Placeholder](https://www.tensorflow.org/api_docs/python/tf/placeholder)\n",
    " * Set the shape using `n_classes` with batch size set to `None`.\n",
    " * Name the TensorFlow placeholder \"y\" using the TensorFlow `name` parameter in the [TF Placeholder](https://www.tensorflow.org/api_docs/python/tf/placeholder).\n",
    "* Implement `neural_net_keep_prob_input`\n",
    " * Return a [TF Placeholder](https://www.tensorflow.org/api_docs/python/tf/placeholder) for dropout keep probability.\n",
    " * Name the TensorFlow placeholder \"keep_prob\" using the TensorFlow `name` parameter in the [TF Placeholder](https://www.tensorflow.org/api_docs/python/tf/placeholder).\n",
    "\n",
    "These names will be used at the end of the project to load your saved model.\n",
    "\n",
    "Note: `None` for shapes in TensorFlow allow for a dynamic size."
   ]
  },
  {
   "cell_type": "code",
   "execution_count": 7,
   "metadata": {
    "collapsed": false
   },
   "outputs": [
    {
     "name": "stdout",
     "output_type": "stream",
     "text": [
      "[None, 32, 32, 3]\n",
      "Image Input Tests Passed.\n",
      "Label Input Tests Passed.\n",
      "Keep Prob Tests Passed.\n"
     ]
    }
   ],
   "source": [
    "import tensorflow as tf\n",
    "\n",
    "def neural_net_image_input(image_shape):\n",
    "    \"\"\"\n",
    "    Return a Tensor for a batch of image input\n",
    "    : image_shape: Shape of the images\n",
    "    : return: Tensor for image input.\n",
    "    \"\"\"\n",
    "    # TODO: Implement Function\n",
    "    imgArr = []\n",
    "    imgArr.append(None)\n",
    "    for i in image_shape:\n",
    "        imgArr.append(i)\n",
    "    print (imgArr)\n",
    "    return tf.placeholder(tf.float32, shape=imgArr, name=\"x\")\n",
    "\n",
    "\n",
    "def neural_net_label_input(n_classes):\n",
    "    \"\"\"\n",
    "    Return a Tensor for a batch of label input\n",
    "    : n_classes: Number of classes\n",
    "    : return: Tensor for label input.\n",
    "    \"\"\"\n",
    "    # TODO: Implement Function\n",
    "    return tf.placeholder(tf.float32, shape=[None, n_classes], name=\"y\")\n",
    "\n",
    "\n",
    "def neural_net_keep_prob_input():\n",
    "    \"\"\"\n",
    "    Return a Tensor for keep probability\n",
    "    : return: Tensor for keep probability.\n",
    "    \"\"\"\n",
    "    # TODO: Implement Function\n",
    "    return tf.placeholder(tf.float32, name=\"keep_prob\")\n",
    "\n",
    "\n",
    "\"\"\"\n",
    "DON'T MODIFY ANYTHING IN THIS CELL THAT IS BELOW THIS LINE\n",
    "\"\"\"\n",
    "tf.reset_default_graph()\n",
    "tests.test_nn_image_inputs(neural_net_image_input)\n",
    "tests.test_nn_label_inputs(neural_net_label_input)\n",
    "tests.test_nn_keep_prob_inputs(neural_net_keep_prob_input)"
   ]
  },
  {
   "cell_type": "markdown",
   "metadata": {},
   "source": [
    "### Convolution and Max Pooling Layer\n",
    "Convolution layers have a lot of success with images. For this code cell, you should implement the function `conv2d_maxpool` to apply convolution then max pooling:\n",
    "* Create the weight and bias using `conv_ksize`, `conv_num_outputs` and the shape of `x_tensor`.\n",
    "* Apply a convolution to `x_tensor` using weight and `conv_strides`.\n",
    " * We recommend you use same padding, but you're welcome to use any padding.\n",
    "* Add bias\n",
    "* Add a nonlinear activation to the convolution.\n",
    "* Apply Max Pooling using `pool_ksize` and `pool_strides`.\n",
    " * We recommend you use same padding, but you're welcome to use any padding.\n",
    "\n",
    "**Note:** You **can't** use [TensorFlow Layers](https://www.tensorflow.org/api_docs/python/tf/layers) or [TensorFlow Layers (contrib)](https://www.tensorflow.org/api_guides/python/contrib.layers) for **this** layer, but you can still use TensorFlow's [Neural Network](https://www.tensorflow.org/api_docs/python/tf/nn) package. You may still use the shortcut option for all the **other** layers."
   ]
  },
  {
   "cell_type": "code",
   "execution_count": 8,
   "metadata": {
    "collapsed": false
   },
   "outputs": [
    {
     "name": "stdout",
     "output_type": "stream",
     "text": [
      "5\n",
      "(2, 2)\n",
      "Tests Passed\n"
     ]
    }
   ],
   "source": [
    "def conv2d_maxpool(x_tensor, conv_num_outputs, conv_ksize, conv_strides, pool_ksize, pool_strides):\n",
    "    \"\"\"\n",
    "    Apply convolution then max pooling to x_tensor\n",
    "    :param x_tensor: TensorFlow Tensor\n",
    "    :param conv_num_outputs: Number of outputs for the convolutional layer\n",
    "    :param conv_ksize: kernal size 2-D Tuple for the convolutional layer\n",
    "    :param conv_strides: Stride 2-D Tuple for convolution\n",
    "    :param pool_ksize: kernal size 2-D Tuple for pool\n",
    "    :param pool_strides: Stride 2-D Tuple for pool\n",
    "    : return: A tensor that represents convolution and max pooling of x_tensor\n",
    "    \"\"\"\n",
    "#     in_depth = x_tensor.get_shape().as_list() \n",
    "#     print (in_depth)\n",
    "    \n",
    "#     #Makes a conv_ksize array for use in filter weights (F_w)\n",
    "#     conv_ksize_Arr = []\n",
    "#     for i in conv_ksize:\n",
    "#         conv_ksize_Arr.append(i)\n",
    "#     conv_ksize_Arr.append(in_depth[3])\n",
    "#     conv_ksize_Arr.append(conv_num_outputs)\n",
    "#     print (conv_ksize_Arr)\n",
    "    \n",
    "#     # (height, width, input_depth, output_depth)\n",
    "#     F_w = tf.Variable(tf.truncated_normal((conv_ksize_Arr))) \n",
    "#     print (F_w)\n",
    "    \n",
    "#     # (output_depth)\n",
    "#     F_b = tf.Variable(tf.zeros(conv_num_outputs))\n",
    "#     print (F_b)\n",
    "    \n",
    "#     #Turns conv_stride, pool_ksize, and pool_strides tuples into arrays\n",
    "#     conv_stride_batch = 1\n",
    "#     conv_stride_features = 1\n",
    "#     conv_strides_Arr = [conv_stride_batch]\n",
    "#     for i in conv_strides:\n",
    "#         conv_strides_Arr.append(i)\n",
    "#     conv_strides_Arr.append(conv_stride_features)\n",
    "       \n",
    "#     pool_ksize_batch = 1\n",
    "#     pool_ksize_features = 1\n",
    "#     pool_ksize_Arr = [pool_ksize_batch]\n",
    "#     for i in pool_ksize:\n",
    "#         pool_ksize_Arr.append(i)\n",
    "#     pool_ksize_Arr.append(pool_ksize_features)\n",
    "    \n",
    "#     pool_strides_batch = 1\n",
    "#     pool_strides_features = 1\n",
    "#     pool_strides_Arr = [pool_strides_batch]\n",
    "#     for i in pool_strides:\n",
    "#         pool_strides_Arr.append(i)\n",
    "#     pool_strides_Arr.append(pool_strides_features)\n",
    "    \n",
    "#     #Conv2d and max_pool tensorflow functions\n",
    "#     layer_conv = tf.nn.conv2d(input=x_tensor, filter=F_w, strides=conv_strides_Arr, padding='SAME') + F_b\n",
    "#     print (layer_conv)\n",
    "#     layer_conv_out = tf.nn.relu(layer_conv)\n",
    "    \n",
    "#     layer_pool = tf.nn.max_pool(layer_conv_out, pool_ksize_Arr, strides=pool_strides_Arr, padding='SAME')\n",
    "#     return layer_pool\n",
    "\n",
    "    conv_ksize_height = conv_ksize[0]\n",
    "    conv_ksize_width = conv_ksize[1]\n",
    "    input_depth = x_tensor.get_shape().as_list()[3]\n",
    "    print(input_depth)\n",
    "    print(conv_ksize)\n",
    "    \n",
    "    conv_ksize_weights = tf.Variable(tf.truncated_normal(\n",
    "        [conv_ksize_height, conv_ksize_width, input_depth, conv_num_outputs],\n",
    "        mean=0.0, stddev=0.1\n",
    "    ))\n",
    "    \n",
    "    conv_ksize_bias = tf.Variable(tf.zeros(conv_num_outputs))\n",
    "    \n",
    "    conv_strides = [1, conv_strides[0], conv_strides[1], 1]\n",
    "    result = tf.nn.conv2d(x_tensor, conv_ksize_weights, conv_strides, padding='SAME') + conv_ksize_bias\n",
    "    conv_layer = tf.nn.relu(result)\n",
    "    \n",
    "    pool_ksize_Arr = [1, pool_ksize[0], pool_ksize[1], 1]\n",
    "    pool_strides_Arr = [1, pool_strides[0], pool_strides[1], 1]\n",
    "    \n",
    "    max_pool_layer = tf.nn.max_pool(conv_layer, pool_ksize_Arr, pool_strides_Arr, padding='SAME')\n",
    "        \n",
    "    return max_pool_layer\n",
    "\n",
    "\n",
    "\"\"\"\n",
    "DON'T MODIFY ANYTHING IN THIS CELL THAT IS BELOW THIS LINE\n",
    "\"\"\"\n",
    "tests.test_con_pool(conv2d_maxpool)"
   ]
  },
  {
   "cell_type": "markdown",
   "metadata": {},
   "source": [
    "### Flatten Layer\n",
    "Implement the `flatten` function to change the dimension of `x_tensor` from a 4-D tensor to a 2-D tensor.  The output should be the shape (*Batch Size*, *Flattened Image Size*). Shortcut option: you can use classes from the [TensorFlow Layers](https://www.tensorflow.org/api_docs/python/tf/layers) or [TensorFlow Layers (contrib)](https://www.tensorflow.org/api_guides/python/contrib.layers) packages for this layer. For more of a challenge, only use other TensorFlow packages."
   ]
  },
  {
   "cell_type": "code",
   "execution_count": 9,
   "metadata": {
    "collapsed": false
   },
   "outputs": [
    {
     "name": "stdout",
     "output_type": "stream",
     "text": [
      "Tests Passed\n"
     ]
    }
   ],
   "source": [
    "def flatten(x_tensor):\n",
    "    \"\"\"\n",
    "    Flatten x_tensor to (Batch Size, Flattened Image Size)\n",
    "    : x_tensor: A tensor of size (Batch Size, ...), where ... are the image dimensions.\n",
    "    : return: A tensor of size (Batch Size, Flattened Image Size).\n",
    "    \"\"\"\n",
    "    # TODO: Implement Function\n",
    "    return tf.contrib.layers.flatten(x_tensor)\n",
    "\n",
    "\n",
    "\"\"\"\n",
    "DON'T MODIFY ANYTHING IN THIS CELL THAT IS BELOW THIS LINE\n",
    "\"\"\"\n",
    "tests.test_flatten(flatten)"
   ]
  },
  {
   "cell_type": "markdown",
   "metadata": {},
   "source": [
    "### Fully-Connected Layer\n",
    "Implement the `fully_conn` function to apply a fully connected layer to `x_tensor` with the shape (*Batch Size*, *num_outputs*). Shortcut option: you can use classes from the [TensorFlow Layers](https://www.tensorflow.org/api_docs/python/tf/layers) or [TensorFlow Layers (contrib)](https://www.tensorflow.org/api_guides/python/contrib.layers) packages for this layer. For more of a challenge, only use other TensorFlow packages."
   ]
  },
  {
   "cell_type": "code",
   "execution_count": 10,
   "metadata": {
    "collapsed": false
   },
   "outputs": [
    {
     "name": "stdout",
     "output_type": "stream",
     "text": [
      "[None, 128]\n",
      "Tests Passed\n"
     ]
    }
   ],
   "source": [
    "def fully_conn(x_tensor, num_outputs):\n",
    "    \"\"\"\n",
    "    Apply a fully connected layer to x_tensor using weight and bias\n",
    "    : x_tensor: A 2-D tensor where the first dimension is batch size.\n",
    "    : num_outputs: The number of output that the new tensor should be.\n",
    "    : return: A 2-D tensor where the second dimension is num_outputs.\n",
    "    \"\"\"\n",
    "    # TODO: Implement Function\n",
    "#     #return tf.contrib.layers.fully_connected(x_tensor, num_outputs, activation_fn=tf.sigmoid)\n",
    "#     layer1 = tf.contrib.layers.fully_connected(x_tensor, num_outputs, activation_fn =tf.sigmoid)\n",
    "#     return layer1\n",
    "\n",
    "    shape = x_tensor.get_shape().as_list()\n",
    "    print(shape)\n",
    "    weights = tf.Variable(tf.truncated_normal(\n",
    "        [shape[1], num_outputs],\n",
    "        mean=0.0, stddev=0.1\n",
    "    ))\n",
    "    biases = tf.Variable(tf.zeros([num_outputs]))\n",
    "    \n",
    "    result = tf.add(tf.matmul(x_tensor, weights), biases)\n",
    "    return tf.nn.relu(result)\n",
    "\n",
    "    \n",
    "\n",
    "\n",
    "\"\"\"\n",
    "DON'T MODIFY ANYTHING IN THIS CELL THAT IS BELOW THIS LINE\n",
    "\"\"\"\n",
    "tests.test_fully_conn(fully_conn)"
   ]
  },
  {
   "cell_type": "markdown",
   "metadata": {},
   "source": [
    "### Output Layer\n",
    "Implement the `output` function to apply a fully connected layer to `x_tensor` with the shape (*Batch Size*, *num_outputs*). Shortcut option: you can use classes from the [TensorFlow Layers](https://www.tensorflow.org/api_docs/python/tf/layers) or [TensorFlow Layers (contrib)](https://www.tensorflow.org/api_guides/python/contrib.layers) packages for this layer. For more of a challenge, only use other TensorFlow packages.\n",
    "\n",
    "**Note:** Activation, softmax, or cross entropy should **not** be applied to this."
   ]
  },
  {
   "cell_type": "code",
   "execution_count": 11,
   "metadata": {
    "collapsed": false
   },
   "outputs": [
    {
     "name": "stdout",
     "output_type": "stream",
     "text": [
      "Tests Passed\n"
     ]
    }
   ],
   "source": [
    "def output(x_tensor, num_outputs):\n",
    "    \"\"\"\n",
    "    Apply a output layer to x_tensor using weight and bias\n",
    "    : x_tensor: A 2-D tensor where the first dimension is batch size.\n",
    "    : num_outputs: The number of output that the new tensor should be.\n",
    "    : return: A 2-D tensor where the second dimension is num_outputs.\n",
    "    \"\"\"\n",
    "    # TODO: Implement Function\n",
    "#     layer = tf.contrib.layers.fully_connected(x_tensor, num_outputs, activation_fn=None)\n",
    "#     return layer\n",
    "\n",
    "    shape = x_tensor.get_shape().as_list()\n",
    "    weights = tf.Variable(tf.truncated_normal(\n",
    "        [shape[1], num_outputs], \n",
    "        mean=0.0, stddev=0.1\n",
    "    ))\n",
    "    biases = tf.Variable(tf.zeros(num_outputs))\n",
    "    \n",
    "    return tf.add(tf.matmul(x_tensor, weights), biases)\n",
    "\n",
    "\n",
    "\n",
    "\"\"\"\n",
    "DON'T MODIFY ANYTHING IN THIS CELL THAT IS BELOW THIS LINE\n",
    "\"\"\"\n",
    "tests.test_output(output)"
   ]
  },
  {
   "cell_type": "markdown",
   "metadata": {},
   "source": [
    "### Create Convolutional Model\n",
    "Implement the function `conv_net` to create a convolutional neural network model. The function takes in a batch of images, `x`, and outputs logits.  Use the layers you created above to create this model:\n",
    "\n",
    "* Apply 1, 2, or 3 Convolution and Max Pool layers\n",
    "* Apply a Flatten Layer\n",
    "* Apply 1, 2, or 3 Fully Connected Layers\n",
    "* Apply an Output Layer\n",
    "* Return the output\n",
    "* Apply [TensorFlow's Dropout](https://www.tensorflow.org/api_docs/python/tf/nn/dropout) to one or more layers in the model using `keep_prob`. "
   ]
  },
  {
   "cell_type": "code",
   "execution_count": 13,
   "metadata": {
    "collapsed": false,
    "scrolled": false
   },
   "outputs": [
    {
     "name": "stdout",
     "output_type": "stream",
     "text": [
      "[None, 32, 32, 3]\n",
      "3\n",
      "(3, 3)\n",
      "[None, 32768]\n",
      "3\n",
      "(3, 3)\n",
      "[None, 32768]\n",
      "Neural Network Built!\n"
     ]
    }
   ],
   "source": [
    "def conv_net(x, keep_prob):\n",
    "    \"\"\"\n",
    "    Create a convolutional neural network model\n",
    "    : x: Placeholder tensor that holds image data.\n",
    "    : keep_prob: Placeholder tensor that hold dropout keep probability.\n",
    "    : return: Tensor that represents logits\n",
    "    \"\"\"\n",
    "    #Conv_2d and maxpool layer \n",
    "    conv2d_maxpool_layer = conv2d_maxpool(x, 32, (3,3), (1,1), (3,3), (1,1))\n",
    "    \n",
    "    #Using tf function to flatten layer\n",
    "    flattened_layer = flatten(conv2d_maxpool_layer)\n",
    "    \n",
    "    #apply dropout\n",
    "    dropout_conv = tf.nn.dropout(flattened_layer, keep_prob)\n",
    "    \n",
    "    #Fully connected layer\n",
    "    fully_connected_layer = fully_conn(dropout_conv, 30)\n",
    "    \n",
    "    #Output layer\n",
    "    output_layer = output(fully_connected_layer, 10)\n",
    "    \n",
    "    return output_layer\n",
    "\n",
    "\n",
    "\n",
    "\"\"\"\n",
    "DON'T MODIFY ANYTHING IN THIS CELL THAT IS BELOW THIS LINE\n",
    "\"\"\"\n",
    "\n",
    "##############################\n",
    "## Build the Neural Network ##\n",
    "##############################\n",
    "\n",
    "# Remove previous weights, bias, inputs, etc..\n",
    "tf.reset_default_graph()\n",
    "\n",
    "# Inputs\n",
    "x = neural_net_image_input((32, 32, 3))\n",
    "y = neural_net_label_input(10)\n",
    "keep_prob = neural_net_keep_prob_input()\n",
    "\n",
    "# Model\n",
    "logits = conv_net(x, keep_prob)\n",
    "\n",
    "# Name logits Tensor, so that is can be loaded from disk after training\n",
    "logits = tf.identity(logits, name='logits')\n",
    "\n",
    "# Loss and Optimizer\n",
    "cost = tf.reduce_mean(tf.nn.softmax_cross_entropy_with_logits(logits=logits, labels=y))\n",
    "optimizer = tf.train.AdamOptimizer().minimize(cost)\n",
    "\n",
    "# Accuracy\n",
    "correct_pred = tf.equal(tf.argmax(logits, 1), tf.argmax(y, 1))\n",
    "accuracy = tf.reduce_mean(tf.cast(correct_pred, tf.float32), name='accuracy')\n",
    "\n",
    "tests.test_conv_net(conv_net)"
   ]
  },
  {
   "cell_type": "markdown",
   "metadata": {},
   "source": [
    "## Train the Neural Network\n",
    "### Single Optimization\n",
    "Implement the function `train_neural_network` to do a single optimization.  The optimization should use `optimizer` to optimize in `session` with a `feed_dict` of the following:\n",
    "* `x` for image input\n",
    "* `y` for labels\n",
    "* `keep_prob` for keep probability for dropout\n",
    "\n",
    "This function will be called for each batch, so `tf.global_variables_initializer()` has already been called.\n",
    "\n",
    "Note: Nothing needs to be returned. This function is only optimizing the neural network."
   ]
  },
  {
   "cell_type": "code",
   "execution_count": 14,
   "metadata": {
    "collapsed": false
   },
   "outputs": [
    {
     "name": "stdout",
     "output_type": "stream",
     "text": [
      "Tests Passed\n"
     ]
    }
   ],
   "source": [
    "def train_neural_network(session, optimizer, keep_probability, feature_batch, label_batch):\n",
    "    \"\"\"\n",
    "    Optimize the session on a batch of images and labels\n",
    "    : session: Current TensorFlow session\n",
    "    : optimizer: TensorFlow optimizer function\n",
    "    : keep_probability: keep probability\n",
    "    : feature_batch: Batch of Numpy image data\n",
    "    : label_batch: Batch of Numpy label data\n",
    "    \"\"\"\n",
    "    # TODO: Implement Function\n",
    "    \n",
    "    session.run(optimizer, feed_dict = {\n",
    "        x: feature_batch,\n",
    "        y: label_batch,\n",
    "        keep_prob: keep_probability\n",
    "    })\n",
    "\n",
    "\"\"\"\n",
    "DON'T MODIFY ANYTHING IN THIS CELL THAT IS BELOW THIS LINE\n",
    "\"\"\"\n",
    "tests.test_train_nn(train_neural_network)"
   ]
  },
  {
   "cell_type": "markdown",
   "metadata": {},
   "source": [
    "### Show Stats\n",
    "Implement the function `print_stats` to print loss and validation accuracy.  Use the global variables `valid_features` and `valid_labels` to calculate validation accuracy.  Use a keep probability of `1.0` to calculate the loss and validation accuracy."
   ]
  },
  {
   "cell_type": "code",
   "execution_count": 15,
   "metadata": {
    "collapsed": false
   },
   "outputs": [],
   "source": [
    "def print_stats(session, feature_batch, label_batch, cost, accuracy):\n",
    "    \"\"\"\n",
    "    Print information about loss and validation accuracy\n",
    "    : session: Current TensorFlow session\n",
    "    : feature_batch: Batch of Numpy image data\n",
    "    : label_batch: Batch of Numpy label data\n",
    "    : cost: TensorFlow cost function\n",
    "    : accuracy: TensorFlow accuracy function\n",
    "    \"\"\"\n",
    "    # TODO: Implement Function\n",
    "    cost = session.run(cost, feed_dict = {\n",
    "        x: feature_batch,\n",
    "        y: label_batch,\n",
    "        keep_prob: 1.0\n",
    "    })\n",
    "    \n",
    "    valid_accuracy = session.run(accuracy, feed_dict = {\n",
    "        x: valid_features,\n",
    "        y: valid_labels,\n",
    "        keep_prob: 1.0\n",
    "    })\n",
    "        \n",
    "        \n",
    "    print('Loss: {} Validation Accuracy: {}'.format(cost, valid_accuracy))\n",
    "\n",
    "    "
   ]
  },
  {
   "cell_type": "markdown",
   "metadata": {},
   "source": [
    "### Hyperparameters\n",
    "Tune the following parameters:\n",
    "* Set `epochs` to the number of iterations until the network stops learning or start overfitting\n",
    "* Set `batch_size` to the highest number that your machine has memory for.  Most people set them to common sizes of memory:\n",
    " * 64\n",
    " * 128\n",
    " * 256\n",
    " * ...\n",
    "* Set `keep_probability` to the probability of keeping a node using dropout"
   ]
  },
  {
   "cell_type": "code",
   "execution_count": 16,
   "metadata": {
    "collapsed": true
   },
   "outputs": [],
   "source": [
    "# TODO: Tune Parameters\n",
    "epochs = 30\n",
    "batch_size = 128\n",
    "keep_probability = 0.5"
   ]
  },
  {
   "cell_type": "markdown",
   "metadata": {},
   "source": [
    "### Train on a Single CIFAR-10 Batch\n",
    "Instead of training the neural network on all the CIFAR-10 batches of data, let's use a single batch. This should save time while you iterate on the model to get a better accuracy.  Once the final validation accuracy is 50% or greater, run the model on all the data in the next section."
   ]
  },
  {
   "cell_type": "code",
   "execution_count": 17,
   "metadata": {
    "collapsed": false,
    "scrolled": true
   },
   "outputs": [
    {
     "name": "stdout",
     "output_type": "stream",
     "text": [
      "Checking the Training on a Single Batch...\n",
      "Epoch  1, CIFAR-10 Batch 1:  Loss: 2.2506189346313477 Validation Accuracy: 0.15839999914169312\n",
      "Epoch  2, CIFAR-10 Batch 1:  Loss: 2.1588492393493652 Validation Accuracy: 0.26739999651908875\n",
      "Epoch  3, CIFAR-10 Batch 1:  Loss: 2.015826463699341 Validation Accuracy: 0.3416000008583069\n",
      "Epoch  4, CIFAR-10 Batch 1:  Loss: 1.8965858221054077 Validation Accuracy: 0.3824000060558319\n",
      "Epoch  5, CIFAR-10 Batch 1:  Loss: 1.720261812210083 Validation Accuracy: 0.42500001192092896\n",
      "Epoch  6, CIFAR-10 Batch 1:  Loss: 1.5606625080108643 Validation Accuracy: 0.44859999418258667\n",
      "Epoch  7, CIFAR-10 Batch 1:  Loss: 1.422174096107483 Validation Accuracy: 0.46959999203681946\n",
      "Epoch  8, CIFAR-10 Batch 1:  Loss: 1.311349630355835 Validation Accuracy: 0.4821999967098236\n",
      "Epoch  9, CIFAR-10 Batch 1:  Loss: 1.2199760675430298 Validation Accuracy: 0.48240000009536743\n",
      "Epoch 10, CIFAR-10 Batch 1:  Loss: 1.1376597881317139 Validation Accuracy: 0.49000000953674316\n",
      "Epoch 11, CIFAR-10 Batch 1:  Loss: 1.0933023691177368 Validation Accuracy: 0.4943999946117401\n",
      "Epoch 12, CIFAR-10 Batch 1:  Loss: 1.0626674890518188 Validation Accuracy: 0.49779999256134033\n",
      "Epoch 13, CIFAR-10 Batch 1:  Loss: 1.025689959526062 Validation Accuracy: 0.5041999816894531\n",
      "Epoch 14, CIFAR-10 Batch 1:  Loss: 0.9885352253913879 Validation Accuracy: 0.510200023651123\n",
      "Epoch 15, CIFAR-10 Batch 1:  Loss: 0.959104061126709 Validation Accuracy: 0.5153999924659729\n",
      "Epoch 16, CIFAR-10 Batch 1:  Loss: 0.9470304250717163 Validation Accuracy: 0.5220000147819519\n",
      "Epoch 17, CIFAR-10 Batch 1:  Loss: 0.928545355796814 Validation Accuracy: 0.5185999870300293\n",
      "Epoch 18, CIFAR-10 Batch 1:  Loss: 0.893419623374939 Validation Accuracy: 0.5221999883651733\n",
      "Epoch 19, CIFAR-10 Batch 1:  Loss: 0.9006584882736206 Validation Accuracy: 0.5216000080108643\n",
      "Epoch 20, CIFAR-10 Batch 1:  Loss: 0.8798152804374695 Validation Accuracy: 0.521399974822998\n",
      "Epoch 21, CIFAR-10 Batch 1:  Loss: 0.851102352142334 Validation Accuracy: 0.5315999984741211\n",
      "Epoch 22, CIFAR-10 Batch 1:  Loss: 0.8240578770637512 Validation Accuracy: 0.5293999910354614\n",
      "Epoch 23, CIFAR-10 Batch 1:  Loss: 0.813793957233429 Validation Accuracy: 0.5320000052452087\n",
      "Epoch 24, CIFAR-10 Batch 1:  Loss: 0.802476704120636 Validation Accuracy: 0.5424000024795532\n",
      "Epoch 25, CIFAR-10 Batch 1:  Loss: 0.7822712659835815 Validation Accuracy: 0.5353999733924866\n",
      "Epoch 26, CIFAR-10 Batch 1:  Loss: 0.7637291550636292 Validation Accuracy: 0.5419999957084656\n",
      "Epoch 27, CIFAR-10 Batch 1:  Loss: 0.7462283372879028 Validation Accuracy: 0.5454000234603882\n",
      "Epoch 28, CIFAR-10 Batch 1:  Loss: 0.7121244668960571 Validation Accuracy: 0.54339998960495\n",
      "Epoch 29, CIFAR-10 Batch 1:  Loss: 0.6991539597511292 Validation Accuracy: 0.5446000099182129\n",
      "Epoch 30, CIFAR-10 Batch 1:  Loss: 0.7106450200080872 Validation Accuracy: 0.5497999787330627\n"
     ]
    }
   ],
   "source": [
    "\"\"\"\n",
    "DON'T MODIFY ANYTHING IN THIS CELL\n",
    "\"\"\"\n",
    "print('Checking the Training on a Single Batch...')\n",
    "with tf.Session() as sess:\n",
    "    # Initializing the variables\n",
    "    sess.run(tf.global_variables_initializer())\n",
    "    \n",
    "    # Training cycle\n",
    "    for epoch in range(epochs):\n",
    "        batch_i = 1\n",
    "        for batch_features, batch_labels in helper.load_preprocess_training_batch(batch_i, batch_size):\n",
    "            train_neural_network(sess, optimizer, keep_probability, batch_features, batch_labels)\n",
    "        print('Epoch {:>2}, CIFAR-10 Batch {}:  '.format(epoch + 1, batch_i), end='')\n",
    "        print_stats(sess, batch_features, batch_labels, cost, accuracy)"
   ]
  },
  {
   "cell_type": "markdown",
   "metadata": {},
   "source": [
    "### Fully Train the Model\n",
    "Now that you got a good accuracy with a single CIFAR-10 batch, try it with all five batches."
   ]
  },
  {
   "cell_type": "code",
   "execution_count": 18,
   "metadata": {
    "collapsed": false,
    "scrolled": true
   },
   "outputs": [
    {
     "name": "stdout",
     "output_type": "stream",
     "text": [
      "Training...\n",
      "Epoch  1, CIFAR-10 Batch 1:  Loss: 2.1167051792144775 Validation Accuracy: 0.25519999861717224\n",
      "Epoch  1, CIFAR-10 Batch 2:  Loss: 1.885553002357483 Validation Accuracy: 0.3271999955177307\n",
      "Epoch  1, CIFAR-10 Batch 3:  Loss: 1.6343886852264404 Validation Accuracy: 0.3686000108718872\n",
      "Epoch  1, CIFAR-10 Batch 4:  Loss: 1.5859465599060059 Validation Accuracy: 0.428600013256073\n",
      "Epoch  1, CIFAR-10 Batch 5:  Loss: 1.5321518182754517 Validation Accuracy: 0.4544000029563904\n",
      "Epoch  2, CIFAR-10 Batch 1:  Loss: 1.6626713275909424 Validation Accuracy: 0.4851999878883362\n",
      "Epoch  2, CIFAR-10 Batch 2:  Loss: 1.3851916790008545 Validation Accuracy: 0.49639999866485596\n",
      "Epoch  2, CIFAR-10 Batch 3:  Loss: 1.1658775806427002 Validation Accuracy: 0.4885999858379364\n",
      "Epoch  2, CIFAR-10 Batch 4:  Loss: 1.3778306245803833 Validation Accuracy: 0.5296000242233276\n",
      "Epoch  2, CIFAR-10 Batch 5:  Loss: 1.358929991722107 Validation Accuracy: 0.522599995136261\n",
      "Epoch  3, CIFAR-10 Batch 1:  Loss: 1.4151045083999634 Validation Accuracy: 0.5375999808311462\n",
      "Epoch  3, CIFAR-10 Batch 2:  Loss: 1.1961572170257568 Validation Accuracy: 0.5388000011444092\n",
      "Epoch  3, CIFAR-10 Batch 3:  Loss: 0.9689233899116516 Validation Accuracy: 0.5397999882698059\n",
      "Epoch  3, CIFAR-10 Batch 4:  Loss: 1.224015474319458 Validation Accuracy: 0.5523999929428101\n",
      "Epoch  3, CIFAR-10 Batch 5:  Loss: 1.2543575763702393 Validation Accuracy: 0.550599992275238\n",
      "Epoch  4, CIFAR-10 Batch 1:  Loss: 1.2192471027374268 Validation Accuracy: 0.5544000267982483\n",
      "Epoch  4, CIFAR-10 Batch 2:  Loss: 1.1031029224395752 Validation Accuracy: 0.5716000199317932\n",
      "Epoch  4, CIFAR-10 Batch 3:  Loss: 0.9067703485488892 Validation Accuracy: 0.5726000070571899\n",
      "Epoch  4, CIFAR-10 Batch 4:  Loss: 1.1316547393798828 Validation Accuracy: 0.5812000036239624\n",
      "Epoch  4, CIFAR-10 Batch 5:  Loss: 1.1678394079208374 Validation Accuracy: 0.5716000199317932\n",
      "Epoch  5, CIFAR-10 Batch 1:  Loss: 1.1701910495758057 Validation Accuracy: 0.5748000144958496\n",
      "Epoch  5, CIFAR-10 Batch 2:  Loss: 0.9397295117378235 Validation Accuracy: 0.5965999960899353\n",
      "Epoch  5, CIFAR-10 Batch 3:  Loss: 0.832977294921875 Validation Accuracy: 0.5867999792098999\n",
      "Epoch  5, CIFAR-10 Batch 4:  Loss: 1.0323050022125244 Validation Accuracy: 0.5925999879837036\n",
      "Epoch  5, CIFAR-10 Batch 5:  Loss: 1.0645204782485962 Validation Accuracy: 0.5866000056266785\n",
      "Epoch  6, CIFAR-10 Batch 1:  Loss: 1.0683066844940186 Validation Accuracy: 0.5848000049591064\n",
      "Epoch  6, CIFAR-10 Batch 2:  Loss: 0.8763717412948608 Validation Accuracy: 0.6021999716758728\n",
      "Epoch  6, CIFAR-10 Batch 3:  Loss: 0.789277970790863 Validation Accuracy: 0.5924000144004822\n",
      "Epoch  6, CIFAR-10 Batch 4:  Loss: 0.909511923789978 Validation Accuracy: 0.6079999804496765\n",
      "Epoch  6, CIFAR-10 Batch 5:  Loss: 1.0010654926300049 Validation Accuracy: 0.5950000286102295\n",
      "Epoch  7, CIFAR-10 Batch 1:  Loss: 1.0349171161651611 Validation Accuracy: 0.597599983215332\n",
      "Epoch  7, CIFAR-10 Batch 2:  Loss: 0.81230628490448 Validation Accuracy: 0.6100000143051147\n",
      "Epoch  7, CIFAR-10 Batch 3:  Loss: 0.7403523921966553 Validation Accuracy: 0.6051999926567078\n",
      "Epoch  7, CIFAR-10 Batch 4:  Loss: 0.848731517791748 Validation Accuracy: 0.614799976348877\n",
      "Epoch  7, CIFAR-10 Batch 5:  Loss: 0.926938533782959 Validation Accuracy: 0.6046000123023987\n",
      "Epoch  8, CIFAR-10 Batch 1:  Loss: 0.9352493286132812 Validation Accuracy: 0.6057999730110168\n",
      "Epoch  8, CIFAR-10 Batch 2:  Loss: 0.7751274108886719 Validation Accuracy: 0.6168000102043152\n",
      "Epoch  8, CIFAR-10 Batch 3:  Loss: 0.6879795789718628 Validation Accuracy: 0.6173999905586243\n",
      "Epoch  8, CIFAR-10 Batch 4:  Loss: 0.7916086912155151 Validation Accuracy: 0.6254000067710876\n",
      "Epoch  8, CIFAR-10 Batch 5:  Loss: 0.8522924184799194 Validation Accuracy: 0.6212000250816345\n",
      "Epoch  9, CIFAR-10 Batch 1:  Loss: 0.9027975797653198 Validation Accuracy: 0.6111999750137329\n",
      "Epoch  9, CIFAR-10 Batch 2:  Loss: 0.6958537101745605 Validation Accuracy: 0.6269999742507935\n",
      "Epoch  9, CIFAR-10 Batch 3:  Loss: 0.5869539976119995 Validation Accuracy: 0.628000020980835\n",
      "Epoch  9, CIFAR-10 Batch 4:  Loss: 0.7217104434967041 Validation Accuracy: 0.6322000026702881\n",
      "Epoch  9, CIFAR-10 Batch 5:  Loss: 0.7973876595497131 Validation Accuracy: 0.6295999884605408\n",
      "Epoch 10, CIFAR-10 Batch 1:  Loss: 0.8826896548271179 Validation Accuracy: 0.626800000667572\n",
      "Epoch 10, CIFAR-10 Batch 2:  Loss: 0.6766416430473328 Validation Accuracy: 0.6299999952316284\n",
      "Epoch 10, CIFAR-10 Batch 3:  Loss: 0.5827695727348328 Validation Accuracy: 0.618399977684021\n",
      "Epoch 10, CIFAR-10 Batch 4:  Loss: 0.6424958109855652 Validation Accuracy: 0.6376000046730042\n",
      "Epoch 10, CIFAR-10 Batch 5:  Loss: 0.7421939373016357 Validation Accuracy: 0.6367999911308289\n",
      "Epoch 11, CIFAR-10 Batch 1:  Loss: 0.8288192749023438 Validation Accuracy: 0.6269999742507935\n",
      "Epoch 11, CIFAR-10 Batch 2:  Loss: 0.6250401735305786 Validation Accuracy: 0.6417999863624573\n",
      "Epoch 11, CIFAR-10 Batch 3:  Loss: 0.5178983807563782 Validation Accuracy: 0.6402000188827515\n",
      "Epoch 11, CIFAR-10 Batch 4:  Loss: 0.6225729584693909 Validation Accuracy: 0.6448000073432922\n",
      "Epoch 11, CIFAR-10 Batch 5:  Loss: 0.6875368356704712 Validation Accuracy: 0.6389999985694885\n",
      "Epoch 12, CIFAR-10 Batch 1:  Loss: 0.7869046330451965 Validation Accuracy: 0.6320000290870667\n",
      "Epoch 12, CIFAR-10 Batch 2:  Loss: 0.6160233616828918 Validation Accuracy: 0.6403999924659729\n",
      "Epoch 12, CIFAR-10 Batch 3:  Loss: 0.47509950399398804 Validation Accuracy: 0.6439999938011169\n",
      "Epoch 12, CIFAR-10 Batch 4:  Loss: 0.6120244264602661 Validation Accuracy: 0.6481999754905701\n",
      "Epoch 12, CIFAR-10 Batch 5:  Loss: 0.684624433517456 Validation Accuracy: 0.6406000256538391\n",
      "Epoch 13, CIFAR-10 Batch 1:  Loss: 0.7784522175788879 Validation Accuracy: 0.6412000060081482\n",
      "Epoch 13, CIFAR-10 Batch 2:  Loss: 0.5854185223579407 Validation Accuracy: 0.6420000195503235\n",
      "Epoch 13, CIFAR-10 Batch 3:  Loss: 0.45707908272743225 Validation Accuracy: 0.650600016117096\n",
      "Epoch 13, CIFAR-10 Batch 4:  Loss: 0.5866268277168274 Validation Accuracy: 0.646399974822998\n",
      "Epoch 13, CIFAR-10 Batch 5:  Loss: 0.6438992619514465 Validation Accuracy: 0.6435999870300293\n",
      "Epoch 14, CIFAR-10 Batch 1:  Loss: 0.7064207792282104 Validation Accuracy: 0.6367999911308289\n",
      "Epoch 14, CIFAR-10 Batch 2:  Loss: 0.5239186882972717 Validation Accuracy: 0.6434000134468079\n",
      "Epoch 14, CIFAR-10 Batch 3:  Loss: 0.43570226430892944 Validation Accuracy: 0.6384000182151794\n",
      "Epoch 14, CIFAR-10 Batch 4:  Loss: 0.5233596563339233 Validation Accuracy: 0.649399995803833\n",
      "Epoch 14, CIFAR-10 Batch 5:  Loss: 0.6098910570144653 Validation Accuracy: 0.6420000195503235\n",
      "Epoch 15, CIFAR-10 Batch 1:  Loss: 0.6750661134719849 Validation Accuracy: 0.6507999897003174\n",
      "Epoch 15, CIFAR-10 Batch 2:  Loss: 0.48868170380592346 Validation Accuracy: 0.6520000100135803\n",
      "Epoch 15, CIFAR-10 Batch 3:  Loss: 0.41620951890945435 Validation Accuracy: 0.6539999842643738\n",
      "Epoch 15, CIFAR-10 Batch 4:  Loss: 0.5254781246185303 Validation Accuracy: 0.6517999768257141\n",
      "Epoch 15, CIFAR-10 Batch 5:  Loss: 0.6026773452758789 Validation Accuracy: 0.645799994468689\n",
      "Epoch 16, CIFAR-10 Batch 1:  Loss: 0.6673519015312195 Validation Accuracy: 0.6424000263214111\n",
      "Epoch 16, CIFAR-10 Batch 2:  Loss: 0.49544620513916016 Validation Accuracy: 0.6431999802589417\n",
      "Epoch 16, CIFAR-10 Batch 3:  Loss: 0.4006500244140625 Validation Accuracy: 0.651199996471405\n",
      "Epoch 16, CIFAR-10 Batch 4:  Loss: 0.4812171459197998 Validation Accuracy: 0.6438000202178955\n",
      "Epoch 16, CIFAR-10 Batch 5:  Loss: 0.5730739831924438 Validation Accuracy: 0.6489999890327454\n",
      "Epoch 17, CIFAR-10 Batch 1:  Loss: 0.599858283996582 Validation Accuracy: 0.6484000086784363\n",
      "Epoch 17, CIFAR-10 Batch 2:  Loss: 0.44864511489868164 Validation Accuracy: 0.6510000228881836\n",
      "Epoch 17, CIFAR-10 Batch 3:  Loss: 0.36745864152908325 Validation Accuracy: 0.652999997138977\n",
      "Epoch 17, CIFAR-10 Batch 4:  Loss: 0.4424813389778137 Validation Accuracy: 0.651199996471405\n",
      "Epoch 17, CIFAR-10 Batch 5:  Loss: 0.5034583806991577 Validation Accuracy: 0.6607999801635742\n",
      "Epoch 18, CIFAR-10 Batch 1:  Loss: 0.5833229422569275 Validation Accuracy: 0.6531999707221985\n",
      "Epoch 18, CIFAR-10 Batch 2:  Loss: 0.4436931014060974 Validation Accuracy: 0.6570000052452087\n",
      "Epoch 18, CIFAR-10 Batch 3:  Loss: 0.35489773750305176 Validation Accuracy: 0.6565999984741211\n",
      "Epoch 18, CIFAR-10 Batch 4:  Loss: 0.423433393239975 Validation Accuracy: 0.6514000296592712\n",
      "Epoch 18, CIFAR-10 Batch 5:  Loss: 0.501334547996521 Validation Accuracy: 0.6567999720573425\n",
      "Epoch 19, CIFAR-10 Batch 1:  Loss: 0.5558173060417175 Validation Accuracy: 0.6588000059127808\n",
      "Epoch 19, CIFAR-10 Batch 2:  Loss: 0.40741291642189026 Validation Accuracy: 0.65420001745224\n",
      "Epoch 19, CIFAR-10 Batch 3:  Loss: 0.31643715500831604 Validation Accuracy: 0.6582000255584717\n",
      "Epoch 19, CIFAR-10 Batch 4:  Loss: 0.41779646277427673 Validation Accuracy: 0.6517999768257141\n",
      "Epoch 19, CIFAR-10 Batch 5:  Loss: 0.4995722770690918 Validation Accuracy: 0.6520000100135803\n",
      "Epoch 20, CIFAR-10 Batch 1:  Loss: 0.5517352819442749 Validation Accuracy: 0.6525999903678894\n",
      "Epoch 20, CIFAR-10 Batch 2:  Loss: 0.39161157608032227 Validation Accuracy: 0.6606000065803528\n",
      "Epoch 20, CIFAR-10 Batch 3:  Loss: 0.3208472728729248 Validation Accuracy: 0.65420001745224\n",
      "Epoch 20, CIFAR-10 Batch 4:  Loss: 0.36684852838516235 Validation Accuracy: 0.6585999727249146\n",
      "Epoch 20, CIFAR-10 Batch 5:  Loss: 0.4684087634086609 Validation Accuracy: 0.6516000032424927\n",
      "Epoch 21, CIFAR-10 Batch 1:  Loss: 0.5316347479820251 Validation Accuracy: 0.6531999707221985\n",
      "Epoch 21, CIFAR-10 Batch 2:  Loss: 0.35668379068374634 Validation Accuracy: 0.6553999781608582\n",
      "Epoch 21, CIFAR-10 Batch 3:  Loss: 0.31610575318336487 Validation Accuracy: 0.6636000275611877\n",
      "Epoch 21, CIFAR-10 Batch 4:  Loss: 0.359441876411438 Validation Accuracy: 0.6618000268936157\n",
      "Epoch 21, CIFAR-10 Batch 5:  Loss: 0.44602689146995544 Validation Accuracy: 0.6521999835968018\n",
      "Epoch 22, CIFAR-10 Batch 1:  Loss: 0.49262458086013794 Validation Accuracy: 0.6485999822616577\n",
      "Epoch 22, CIFAR-10 Batch 2:  Loss: 0.38095733523368835 Validation Accuracy: 0.6628000140190125\n",
      "Epoch 22, CIFAR-10 Batch 3:  Loss: 0.309315025806427 Validation Accuracy: 0.6565999984741211\n",
      "Epoch 22, CIFAR-10 Batch 4:  Loss: 0.3461541533470154 Validation Accuracy: 0.6571999788284302\n",
      "Epoch 22, CIFAR-10 Batch 5:  Loss: 0.42100077867507935 Validation Accuracy: 0.6597999930381775\n",
      "Epoch 23, CIFAR-10 Batch 1:  Loss: 0.495411217212677 Validation Accuracy: 0.647599995136261\n",
      "Epoch 23, CIFAR-10 Batch 2:  Loss: 0.32030782103538513 Validation Accuracy: 0.6647999882698059\n",
      "Epoch 23, CIFAR-10 Batch 3:  Loss: 0.3159102201461792 Validation Accuracy: 0.6534000039100647\n",
      "Epoch 23, CIFAR-10 Batch 4:  Loss: 0.3464076817035675 Validation Accuracy: 0.6579999923706055\n",
      "Epoch 23, CIFAR-10 Batch 5:  Loss: 0.41934147477149963 Validation Accuracy: 0.6552000045776367\n",
      "Epoch 24, CIFAR-10 Batch 1:  Loss: 0.4337778091430664 Validation Accuracy: 0.6552000045776367\n",
      "Epoch 24, CIFAR-10 Batch 2:  Loss: 0.3213539123535156 Validation Accuracy: 0.657800018787384\n",
      "Epoch 24, CIFAR-10 Batch 3:  Loss: 0.2836812734603882 Validation Accuracy: 0.6484000086784363\n",
      "Epoch 24, CIFAR-10 Batch 4:  Loss: 0.34874871373176575 Validation Accuracy: 0.659600019454956\n",
      "Epoch 24, CIFAR-10 Batch 5:  Loss: 0.3833011984825134 Validation Accuracy: 0.6575999855995178\n",
      "Epoch 25, CIFAR-10 Batch 1:  Loss: 0.439622700214386 Validation Accuracy: 0.6460000276565552\n",
      "Epoch 25, CIFAR-10 Batch 2:  Loss: 0.29164209961891174 Validation Accuracy: 0.6601999998092651\n",
      "Epoch 25, CIFAR-10 Batch 3:  Loss: 0.2754064202308655 Validation Accuracy: 0.6588000059127808\n",
      "Epoch 25, CIFAR-10 Batch 4:  Loss: 0.3245724141597748 Validation Accuracy: 0.6611999869346619\n",
      "Epoch 25, CIFAR-10 Batch 5:  Loss: 0.39908280968666077 Validation Accuracy: 0.6582000255584717\n",
      "Epoch 26, CIFAR-10 Batch 1:  Loss: 0.3788768947124481 Validation Accuracy: 0.6516000032424927\n",
      "Epoch 26, CIFAR-10 Batch 2:  Loss: 0.3007569909095764 Validation Accuracy: 0.6531999707221985\n",
      "Epoch 26, CIFAR-10 Batch 3:  Loss: 0.26353734731674194 Validation Accuracy: 0.6585999727249146\n",
      "Epoch 26, CIFAR-10 Batch 4:  Loss: 0.31229129433631897 Validation Accuracy: 0.6585999727249146\n",
      "Epoch 26, CIFAR-10 Batch 5:  Loss: 0.35979804396629333 Validation Accuracy: 0.6592000126838684\n",
      "Epoch 27, CIFAR-10 Batch 1:  Loss: 0.4106542468070984 Validation Accuracy: 0.6514000296592712\n",
      "Epoch 27, CIFAR-10 Batch 2:  Loss: 0.29429498314857483 Validation Accuracy: 0.6571999788284302\n",
      "Epoch 27, CIFAR-10 Batch 3:  Loss: 0.2575554847717285 Validation Accuracy: 0.6535999774932861\n",
      "Epoch 27, CIFAR-10 Batch 4:  Loss: 0.3214816451072693 Validation Accuracy: 0.6514000296592712\n",
      "Epoch 27, CIFAR-10 Batch 5:  Loss: 0.3538239598274231 Validation Accuracy: 0.657800018787384\n",
      "Epoch 28, CIFAR-10 Batch 1:  Loss: 0.3618016839027405 Validation Accuracy: 0.6442000269889832\n",
      "Epoch 28, CIFAR-10 Batch 2:  Loss: 0.27310711145401 Validation Accuracy: 0.659600019454956\n",
      "Epoch 28, CIFAR-10 Batch 3:  Loss: 0.2605575621128082 Validation Accuracy: 0.6488000154495239\n",
      "Epoch 28, CIFAR-10 Batch 4:  Loss: 0.2920196056365967 Validation Accuracy: 0.6525999903678894\n",
      "Epoch 28, CIFAR-10 Batch 5:  Loss: 0.35489028692245483 Validation Accuracy: 0.6444000005722046\n",
      "Epoch 29, CIFAR-10 Batch 1:  Loss: 0.351678729057312 Validation Accuracy: 0.657800018787384\n",
      "Epoch 29, CIFAR-10 Batch 2:  Loss: 0.2655707001686096 Validation Accuracy: 0.6629999876022339\n",
      "Epoch 29, CIFAR-10 Batch 3:  Loss: 0.2248084843158722 Validation Accuracy: 0.6525999903678894\n",
      "Epoch 29, CIFAR-10 Batch 4:  Loss: 0.2829974293708801 Validation Accuracy: 0.6567999720573425\n",
      "Epoch 29, CIFAR-10 Batch 5:  Loss: 0.3231462836265564 Validation Accuracy: 0.6517999768257141\n",
      "Epoch 30, CIFAR-10 Batch 1:  Loss: 0.32259583473205566 Validation Accuracy: 0.6543999910354614\n",
      "Epoch 30, CIFAR-10 Batch 2:  Loss: 0.2761053442955017 Validation Accuracy: 0.6610000133514404\n",
      "Epoch 30, CIFAR-10 Batch 3:  Loss: 0.23163512349128723 Validation Accuracy: 0.6528000235557556\n",
      "Epoch 30, CIFAR-10 Batch 4:  Loss: 0.2858221232891083 Validation Accuracy: 0.6674000024795532\n",
      "Epoch 30, CIFAR-10 Batch 5:  Loss: 0.30707311630249023 Validation Accuracy: 0.6564000248908997\n"
     ]
    }
   ],
   "source": [
    "\"\"\"\n",
    "DON'T MODIFY ANYTHING IN THIS CELL\n",
    "\"\"\"\n",
    "save_model_path = './image_classification'\n",
    "\n",
    "print('Training...')\n",
    "with tf.Session() as sess:\n",
    "    # Initializing the variables\n",
    "    sess.run(tf.global_variables_initializer())\n",
    "    \n",
    "    # Training cycle\n",
    "    for epoch in range(epochs):\n",
    "        # Loop over all batches\n",
    "        n_batches = 5\n",
    "        for batch_i in range(1, n_batches + 1):\n",
    "            for batch_features, batch_labels in helper.load_preprocess_training_batch(batch_i, batch_size):\n",
    "                train_neural_network(sess, optimizer, keep_probability, batch_features, batch_labels)\n",
    "            print('Epoch {:>2}, CIFAR-10 Batch {}:  '.format(epoch + 1, batch_i), end='')\n",
    "            print_stats(sess, batch_features, batch_labels, cost, accuracy)\n",
    "            \n",
    "    # Save Model\n",
    "    saver = tf.train.Saver()\n",
    "    save_path = saver.save(sess, save_model_path)"
   ]
  },
  {
   "cell_type": "markdown",
   "metadata": {},
   "source": [
    "# Checkpoint\n",
    "The model has been saved to disk.\n",
    "## Test Model\n",
    "Test your model against the test dataset.  This will be your final accuracy. You should have an accuracy greater than 50%. If you don't, keep tweaking the model architecture and parameters."
   ]
  },
  {
   "cell_type": "code",
   "execution_count": 21,
   "metadata": {
    "collapsed": false
   },
   "outputs": [
    {
     "name": "stdout",
     "output_type": "stream",
     "text": [
      "Testing Accuracy: 0.6518987341772152\n",
      "\n"
     ]
    },
    {
     "data": {
      "image/png": "[encoded data removed]",
      "text/plain": [
       "<matplotlib.figure.Figure at 0xd01c240>"
      ]
     },
     "metadata": {
      "image/png": {
       "height": 319,
       "width": 355
      }
     },
     "output_type": "display_data"
    }
   ],
   "source": [
    "\"\"\"\n",
    "DON'T MODIFY ANYTHING IN THIS CELL\n",
    "\"\"\"\n",
    "%matplotlib inline\n",
    "%config InlineBackend.figure_format = 'retina'\n",
    "\n",
    "import tensorflow as tf\n",
    "import pickle\n",
    "import helper\n",
    "import random\n",
    "\n",
    "# Set batch size if not already set\n",
    "try:\n",
    "    if batch_size:\n",
    "        pass\n",
    "except NameError:\n",
    "    batch_size = 64\n",
    "\n",
    "save_model_path = './image_classification'\n",
    "n_samples = 4\n",
    "top_n_predictions = 3\n",
    "\n",
    "def test_model():\n",
    "    \"\"\"\n",
    "    Test the saved model against the test dataset\n",
    "    \"\"\"\n",
    "\n",
    "    test_features, test_labels = pickle.load(open('preprocess_training.p', mode='rb'))\n",
    "    loaded_graph = tf.Graph()\n",
    "\n",
    "    with tf.Session(graph=loaded_graph) as sess:\n",
    "        # Load model\n",
    "        loader = tf.train.import_meta_graph(save_model_path + '.meta')\n",
    "        loader.restore(sess, save_model_path)\n",
    "\n",
    "        # Get Tensors from loaded model\n",
    "        loaded_x = loaded_graph.get_tensor_by_name('x:0')\n",
    "        loaded_y = loaded_graph.get_tensor_by_name('y:0')\n",
    "        loaded_keep_prob = loaded_graph.get_tensor_by_name('keep_prob:0')\n",
    "        loaded_logits = loaded_graph.get_tensor_by_name('logits:0')\n",
    "        loaded_acc = loaded_graph.get_tensor_by_name('accuracy:0')\n",
    "        \n",
    "        # Get accuracy in batches for memory limitations\n",
    "        test_batch_acc_total = 0\n",
    "        test_batch_count = 0\n",
    "        \n",
    "        for train_feature_batch, train_label_batch in helper.batch_features_labels(test_features, test_labels, batch_size):\n",
    "            test_batch_acc_total += sess.run(\n",
    "                loaded_acc,\n",
    "                feed_dict={loaded_x: train_feature_batch, loaded_y: train_label_batch, loaded_keep_prob: 1.0})\n",
    "            test_batch_count += 1\n",
    "\n",
    "        print('Testing Accuracy: {}\\n'.format(test_batch_acc_total/test_batch_count))\n",
    "\n",
    "        # Print Random Samples\n",
    "        random_test_features, random_test_labels = tuple(zip(*random.sample(list(zip(test_features, test_labels)), n_samples)))\n",
    "        random_test_predictions = sess.run(\n",
    "            tf.nn.top_k(tf.nn.softmax(loaded_logits), top_n_predictions),\n",
    "            feed_dict={loaded_x: random_test_features, loaded_y: random_test_labels, loaded_keep_prob: 1.0})\n",
    "        helper.display_image_predictions(random_test_features, random_test_labels, random_test_predictions)\n",
    "\n",
    "\n",
    "test_model()"
   ]
  },
  {
   "cell_type": "markdown",
   "metadata": {},
   "source": [
    "## Why 50-70% Accuracy?\n",
    "You might be wondering why you can't get an accuracy any higher. First things first, 50% isn't bad for a simple CNN.  Pure guessing would get you 10% accuracy. However, you might notice people are getting scores [well above 70%](http://rodrigob.github.io/are_we_there_yet/build/classification_datasets_results.html#43494641522d3130).  That's because we haven't taught you all there is to know about neural networks. We still need to cover a few more techniques.\n",
    "## Submitting This Project\n",
    "When submitting this project, make sure to run all the cells before saving the notebook.  Save the notebook file as \"dlnd_image_classification.ipynb\" and save it as a HTML file under \"File\" -> \"Download as\".  Include the \"helper.py\" and \"problem_unittests.py\" files in your submission."
   ]
  },
  {
   "cell_type": "code",
   "execution_count": null,
   "metadata": {
    "collapsed": true
   },
   "outputs": [],
   "source": []
  },
  {
   "cell_type": "code",
   "execution_count": null,
   "metadata": {
    "collapsed": true
   },
   "outputs": [],
   "source": []
  }
 ],
 "metadata": {
  "kernelspec": {
   "display_name": "Python 3",
   "language": "python",
   "name": "python3"
  },
  "language_info": {
   "codemirror_mode": {
    "name": "ipython",
    "version": 3
   },
   "file_extension": ".py",
   "mimetype": "text/x-python",
   "name": "python",
   "nbconvert_exporter": "python",
   "pygments_lexer": "ipython3",
   "version": "3.5.3"
  }
 },
 "nbformat": 4,
 "nbformat_minor": 0
}
