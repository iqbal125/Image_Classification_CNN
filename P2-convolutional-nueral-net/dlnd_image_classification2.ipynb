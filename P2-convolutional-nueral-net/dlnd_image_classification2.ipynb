{
 "cells": [
  {
   "cell_type": "markdown",
   "metadata": {
    "collapsed": true
   },
   "source": [
    "# Image Classification\n",
    "In this project, you'll classify images from the [CIFAR-10 dataset](https://www.cs.toronto.edu/~kriz/cifar.html).  The dataset consists of airplanes, dogs, cats, and other objects. You'll preprocess the images, then train a convolutional neural network on all the samples. The images need to be normalized and the labels need to be one-hot encoded.  You'll get to apply what you learned and build a convolutional, max pooling, dropout, and fully connected layers.  At the end, you'll get to see your neural network's predictions on the sample images.\n",
    "## Get the Data\n",
    "Run the following cell to download the [CIFAR-10 dataset for python](https://www.cs.toronto.edu/~kriz/cifar-10-python.tar.gz)."
   ]
  },
  {
   "cell_type": "code",
   "execution_count": 1,
   "metadata": {
    "collapsed": false
   },
   "outputs": [
    {
     "name": "stdout",
     "output_type": "stream",
     "text": [
      "All files found!\n"
     ]
    }
   ],
   "source": [
    "\"\"\"\n",
    "DON'T MODIFY ANYTHING IN THIS CELL THAT IS BELOW THIS LINE\n",
    "\"\"\"\n",
    "from urllib.request import urlretrieve\n",
    "from os.path import isfile, isdir\n",
    "from tqdm import tqdm\n",
    "import problem_unittests as tests\n",
    "import tarfile\n",
    "\n",
    "cifar10_dataset_folder_path = 'cifar-10-batches-py'\n",
    "\n",
    "class DLProgress(tqdm):\n",
    "    last_block = 0\n",
    "\n",
    "    def hook(self, block_num=1, block_size=1, total_size=None):\n",
    "        self.total = total_size\n",
    "        self.update((block_num - self.last_block) * block_size)\n",
    "        self.last_block = block_num\n",
    "\n",
    "if not isfile('cifar-10-python.tar.gz'):\n",
    "    with DLProgress(unit='B', unit_scale=True, miniters=1, desc='CIFAR-10 Dataset') as pbar:\n",
    "        urlretrieve(\n",
    "            'https://www.cs.toronto.edu/~kriz/cifar-10-python.tar.gz',\n",
    "            'cifar-10-python.tar.gz',\n",
    "            pbar.hook)\n",
    "\n",
    "if not isdir(cifar10_dataset_folder_path):\n",
    "    with tarfile.open('cifar-10-python.tar.gz') as tar:\n",
    "        tar.extractall()\n",
    "        tar.close()\n",
    "\n",
    "\n",
    "tests.test_folder_path(cifar10_dataset_folder_path)"
   ]
  },
  {
   "cell_type": "markdown",
   "metadata": {},
   "source": [
    "## Explore the Data\n",
    "The dataset is broken into batches to prevent your machine from running out of memory.  The CIFAR-10 dataset consists of 5 batches, named `data_batch_1`, `data_batch_2`, etc.. Each batch contains the labels and images that are one of the following:\n",
    "* airplane\n",
    "* automobile\n",
    "* bird\n",
    "* cat\n",
    "* deer\n",
    "* dog\n",
    "* frog\n",
    "* horse\n",
    "* ship\n",
    "* truck\n",
    "\n",
    "Understanding a dataset is part of making predictions on the data.  Play around with the code cell below by changing the `batch_id` and `sample_id`. The `batch_id` is the id for a batch (1-5). The `sample_id` is the id for a image and label pair in the batch.\n",
    "\n",
    "Ask yourself \"What are all possible labels?\", \"What is the range of values for the image data?\", \"Are the labels in order or random?\".  Answers to questions like these will help you preprocess the data and end up with better predictions."
   ]
  },
  {
   "cell_type": "code",
   "execution_count": 2,
   "metadata": {
    "collapsed": false
   },
   "outputs": [
    {
     "name": "stdout",
     "output_type": "stream",
     "text": [
      "\n",
      "Stats of batch 2:\n",
      "Samples: 10000\n",
      "Label Counts: {0: 984, 1: 1007, 2: 1010, 3: 995, 4: 1010, 5: 988, 6: 1008, 7: 1026, 8: 987, 9: 985}\n",
      "First 20 Labels: [1, 6, 6, 8, 8, 3, 4, 6, 0, 6, 0, 3, 6, 6, 5, 4, 8, 3, 2, 6]\n",
      "\n",
      "Example of Image 9:\n",
      "Image - Min Value: 40 Max Value: 229\n",
      "Image - Shape: (32, 32, 3)\n",
      "Label - Label Id: 6 Name: frog\n"
     ]
    },
    {
     "data": {
      "image/png": "[encoded data removed]",
      "text/plain": [
       "<matplotlib.figure.Figure at 0x9b37898>"
      ]
     },
     "metadata": {
      "image/png": {
       "height": 250,
       "width": 253
      }
     },
     "output_type": "display_data"
    }
   ],
   "source": [
    "%matplotlib inline\n",
    "%config InlineBackend.figure_format = 'retina'\n",
    "\n",
    "import helper\n",
    "import numpy as np\n",
    "\n",
    "# Explore the dataset\n",
    "batch_id = 2\n",
    "sample_id = 9\n",
    "helper.display_stats(cifar10_dataset_folder_path, batch_id, sample_id)"
   ]
  },
  {
   "cell_type": "markdown",
   "metadata": {},
   "source": [
    "## Implement Preprocess Functions\n",
    "### Normalize\n",
    "In the cell below, implement the `normalize` function to take in image data, `x`, and return it as a normalized Numpy array. The values should be in the range of 0 to 1, inclusive.  The return object should be the same shape as `x`."
   ]
  },
  {
   "cell_type": "code",
   "execution_count": 3,
   "metadata": {
    "collapsed": false
   },
   "outputs": [
    {
     "name": "stdout",
     "output_type": "stream",
     "text": [
      "Tests Passed\n"
     ]
    }
   ],
   "source": [
    "def normalize(x):\n",
    "    \"\"\"\n",
    "    Normalize a list of sample image data in the range of 0 to 1\n",
    "    : x: List of image data.  The image shape is (32, 32, 3)\n",
    "    : return: Numpy array of normalize data\n",
    "    \"\"\"\n",
    "    # TODO: Implement Function\n",
    "    return np.array((x) / (255))\n",
    "\n",
    "\n",
    "\"\"\"\n",
    "DON'T MODIFY ANYTHING IN THIS CELL THAT IS BELOW THIS LINE\n",
    "\"\"\"\n",
    "tests.test_normalize(normalize)"
   ]
  },
  {
   "cell_type": "markdown",
   "metadata": {},
   "source": [
    "### One-hot encode\n",
    "Just like the previous code cell, you'll be implementing a function for preprocessing.  This time, you'll implement the `one_hot_encode` function. The input, `x`, are a list of labels.  Implement the function to return the list of labels as One-Hot encoded Numpy array.  The possible values for labels are 0 to 9. The one-hot encoding function should return the same encoding for each value between each call to `one_hot_encode`.  Make sure to save the map of encodings outside the function.\n",
    "\n",
    "Hint: Don't reinvent the wheel."
   ]
  },
  {
   "cell_type": "code",
   "execution_count": 4,
   "metadata": {
    "collapsed": false,
    "scrolled": false
   },
   "outputs": [
    {
     "name": "stdout",
     "output_type": "stream",
     "text": [
      "Tests Passed\n"
     ]
    }
   ],
   "source": [
    "from sklearn import preprocessing\n",
    "\n",
    "def one_hot_encode(x):\n",
    "    \"\"\"\n",
    "    One hot encode a list of sample labels. Return a one-hot encoded vector for each label.\n",
    "    : x: List of sample Labels\n",
    "    : return: Numpy array of one-hot encoded labels\n",
    "    \"\"\"\n",
    "    # TODO: Implement Function\n",
    "    lb = preprocessing.LabelBinarizer()\n",
    "    lb.fit(x)\n",
    "    lb.classes_ = [0, 1, 2, 3, 4, 5, 6, 7, 8, 9]\n",
    "    return lb.transform(x)\n",
    "\n",
    "\n",
    "\n",
    "\"\"\"\n",
    "DON'T MODIFY ANYTHING IN THIS CELL THAT IS BELOW THIS LINE\n",
    "\"\"\"\n",
    "tests.test_one_hot_encode(one_hot_encode)"
   ]
  },
  {
   "cell_type": "markdown",
   "metadata": {},
   "source": [
    "### Randomize Data\n",
    "As you saw from exploring the data above, the order of the samples are randomized.  It doesn't hurt to randomize it again, but you don't need to for this dataset."
   ]
  },
  {
   "cell_type": "markdown",
   "metadata": {},
   "source": [
    "## Preprocess all the data and save it\n",
    "Running the code cell below will preprocess all the CIFAR-10 data and save it to file. The code below also uses 10% of the training data for validation."
   ]
  },
  {
   "cell_type": "code",
   "execution_count": 5,
   "metadata": {
    "collapsed": false
   },
   "outputs": [],
   "source": [
    "\"\"\"\n",
    "DON'T MODIFY ANYTHING IN THIS CELL\n",
    "\"\"\"\n",
    "# Preprocess Training, Validation, and Testing Data\n",
    "helper.preprocess_and_save_data(cifar10_dataset_folder_path, normalize, one_hot_encode)"
   ]
  },
  {
   "cell_type": "markdown",
   "metadata": {},
   "source": [
    "# Check Point\n",
    "This is your first checkpoint.  If you ever decide to come back to this notebook or have to restart the notebook, you can start from here.  The preprocessed data has been saved to disk."
   ]
  },
  {
   "cell_type": "code",
   "execution_count": 6,
   "metadata": {
    "collapsed": false
   },
   "outputs": [],
   "source": [
    "\"\"\"\n",
    "DON'T MODIFY ANYTHING IN THIS CELL\n",
    "\"\"\"\n",
    "import pickle\n",
    "import problem_unittests as tests\n",
    "import helper\n",
    "\n",
    "# Load the Preprocessed Validation data\n",
    "valid_features, valid_labels = pickle.load(open('preprocess_validation.p', mode='rb'))"
   ]
  },
  {
   "cell_type": "markdown",
   "metadata": {},
   "source": [
    "## Build the network\n",
    "For the neural network, you'll build each layer into a function.  Most of the code you've seen has been outside of functions. To test your code more thoroughly, we require that you put each layer in a function.  This allows us to give you better feedback and test for simple mistakes using our unittests before you submit your project.\n",
    "\n",
    ">**Note:** If you're finding it hard to dedicate enough time for this course each week, we've provided a small shortcut to this part of the project. In the next couple of problems, you'll have the option to use classes from the [TensorFlow Layers](https://www.tensorflow.org/api_docs/python/tf/layers) or [TensorFlow Layers (contrib)](https://www.tensorflow.org/api_guides/python/contrib.layers) packages to build each layer, except the layers you build in the \"Convolutional and Max Pooling Layer\" section.  TF Layers is similar to Keras's and TFLearn's abstraction to layers, so it's easy to pickup.\n",
    "\n",
    ">However, if you would like to get the most out of this course, try to solve all the problems _without_ using anything from the TF Layers packages. You **can** still use classes from other packages that happen to have the same name as ones you find in TF Layers! For example, instead of using the TF Layers version of the `conv2d` class, [tf.layers.conv2d](https://www.tensorflow.org/api_docs/python/tf/layers/conv2d), you would want to use the TF Neural Network version of `conv2d`, [tf.nn.conv2d](https://www.tensorflow.org/api_docs/python/tf/nn/conv2d). \n",
    "\n",
    "Let's begin!\n",
    "\n",
    "### Input\n",
    "The neural network needs to read the image data, one-hot encoded labels, and dropout keep probability. Implement the following functions\n",
    "* Implement `neural_net_image_input`\n",
    " * Return a [TF Placeholder](https://www.tensorflow.org/api_docs/python/tf/placeholder)\n",
    " * Set the shape using `image_shape` with batch size set to `None`.\n",
    " * Name the TensorFlow placeholder \"x\" using the TensorFlow `name` parameter in the [TF Placeholder](https://www.tensorflow.org/api_docs/python/tf/placeholder).\n",
    "* Implement `neural_net_label_input`\n",
    " * Return a [TF Placeholder](https://www.tensorflow.org/api_docs/python/tf/placeholder)\n",
    " * Set the shape using `n_classes` with batch size set to `None`.\n",
    " * Name the TensorFlow placeholder \"y\" using the TensorFlow `name` parameter in the [TF Placeholder](https://www.tensorflow.org/api_docs/python/tf/placeholder).\n",
    "* Implement `neural_net_keep_prob_input`\n",
    " * Return a [TF Placeholder](https://www.tensorflow.org/api_docs/python/tf/placeholder) for dropout keep probability.\n",
    " * Name the TensorFlow placeholder \"keep_prob\" using the TensorFlow `name` parameter in the [TF Placeholder](https://www.tensorflow.org/api_docs/python/tf/placeholder).\n",
    "\n",
    "These names will be used at the end of the project to load your saved model.\n",
    "\n",
    "Note: `None` for shapes in TensorFlow allow for a dynamic size."
   ]
  },
  {
   "cell_type": "code",
   "execution_count": 7,
   "metadata": {
    "collapsed": false
   },
   "outputs": [
    {
     "name": "stdout",
     "output_type": "stream",
     "text": [
      "[None, 32, 32, 3]\n",
      "Image Input Tests Passed.\n",
      "Label Input Tests Passed.\n",
      "Keep Prob Tests Passed.\n"
     ]
    }
   ],
   "source": [
    "import tensorflow as tf\n",
    "\n",
    "def neural_net_image_input(image_shape):\n",
    "    \"\"\"\n",
    "    Return a Tensor for a batch of image input\n",
    "    : image_shape: Shape of the images\n",
    "    : return: Tensor for image input.\n",
    "    \"\"\"\n",
    "    # TODO: Implement Function\n",
    "    imgArr = []\n",
    "    imgArr.append(None)\n",
    "    for i in image_shape:\n",
    "        imgArr.append(i)\n",
    "    print (imgArr)\n",
    "    return tf.placeholder(tf.float32, shape=imgArr, name=\"x\")\n",
    "\n",
    "\n",
    "def neural_net_label_input(n_classes):\n",
    "    \"\"\"\n",
    "    Return a Tensor for a batch of label input\n",
    "    : n_classes: Number of classes\n",
    "    : return: Tensor for label input.\n",
    "    \"\"\"\n",
    "    # TODO: Implement Function\n",
    "    return tf.placeholder(tf.float32, shape=[None, n_classes], name=\"y\")\n",
    "\n",
    "\n",
    "def neural_net_keep_prob_input():\n",
    "    \"\"\"\n",
    "    Return a Tensor for keep probability\n",
    "    : return: Tensor for keep probability.\n",
    "    \"\"\"\n",
    "    # TODO: Implement Function\n",
    "    return tf.placeholder(tf.float32, name=\"keep_prob\")\n",
    "\n",
    "\n",
    "\"\"\"\n",
    "DON'T MODIFY ANYTHING IN THIS CELL THAT IS BELOW THIS LINE\n",
    "\"\"\"\n",
    "tf.reset_default_graph()\n",
    "tests.test_nn_image_inputs(neural_net_image_input)\n",
    "tests.test_nn_label_inputs(neural_net_label_input)\n",
    "tests.test_nn_keep_prob_inputs(neural_net_keep_prob_input)"
   ]
  },
  {
   "cell_type": "markdown",
   "metadata": {},
   "source": [
    "### Convolution and Max Pooling Layer\n",
    "Convolution layers have a lot of success with images. For this code cell, you should implement the function `conv2d_maxpool` to apply convolution then max pooling:\n",
    "* Create the weight and bias using `conv_ksize`, `conv_num_outputs` and the shape of `x_tensor`.\n",
    "* Apply a convolution to `x_tensor` using weight and `conv_strides`.\n",
    " * We recommend you use same padding, but you're welcome to use any padding.\n",
    "* Add bias\n",
    "* Add a nonlinear activation to the convolution.\n",
    "* Apply Max Pooling using `pool_ksize` and `pool_strides`.\n",
    " * We recommend you use same padding, but you're welcome to use any padding.\n",
    "\n",
    "**Note:** You **can't** use [TensorFlow Layers](https://www.tensorflow.org/api_docs/python/tf/layers) or [TensorFlow Layers (contrib)](https://www.tensorflow.org/api_guides/python/contrib.layers) for **this** layer, but you can still use TensorFlow's [Neural Network](https://www.tensorflow.org/api_docs/python/tf/nn) package. You may still use the shortcut option for all the **other** layers."
   ]
  },
  {
   "cell_type": "code",
   "execution_count": 8,
   "metadata": {
    "collapsed": false
   },
   "outputs": [
    {
     "name": "stdout",
     "output_type": "stream",
     "text": [
      "[None, 32, 32, 5]\n",
      "[2, 2, 5, 10]\n",
      "Tensor(\"Variable/read:0\", shape=(2, 2, 5, 10), dtype=float32)\n",
      "Tensor(\"Variable_1/read:0\", shape=(10,), dtype=float32)\n",
      "Tensor(\"add:0\", shape=(?, 8, 8, 10), dtype=float32)\n",
      "Tests Passed\n"
     ]
    }
   ],
   "source": [
    "def conv2d_maxpool(x_tensor, conv_num_outputs, conv_ksize, conv_strides, pool_ksize, pool_strides):\n",
    "    \"\"\"\n",
    "    Apply convolution then max pooling to x_tensor\n",
    "    :param x_tensor: TensorFlow Tensor\n",
    "    :param conv_num_outputs: Number of outputs for the convolutional layer\n",
    "    :param conv_ksize: kernal size 2-D Tuple for the convolutional layer\n",
    "    :param conv_strides: Stride 2-D Tuple for convolution\n",
    "    :param pool_ksize: kernal size 2-D Tuple for pool\n",
    "    :param pool_strides: Stride 2-D Tuple for pool\n",
    "    : return: A tensor that represents convolution and max pooling of x_tensor\n",
    "    \"\"\"\n",
    "    in_depth = x_tensor.get_shape().as_list() \n",
    "    print (in_depth)\n",
    "    \n",
    "    #Makes a conv_ksize array for use in filter weights (F_w)\n",
    "    conv_ksize_Arr = []\n",
    "    for i in conv_ksize:\n",
    "        conv_ksize_Arr.append(i)\n",
    "    conv_ksize_Arr.append(in_depth[3])\n",
    "    conv_ksize_Arr.append(conv_num_outputs)\n",
    "    print (conv_ksize_Arr)\n",
    "    \n",
    "    # (height, width, input_depth, output_depth)\n",
    "    F_w = tf.Variable(tf.truncated_normal((conv_ksize_Arr))) \n",
    "    print (F_w)\n",
    "    \n",
    "    # (output_depth)\n",
    "    F_b = tf.Variable(tf.zeros(conv_num_outputs))\n",
    "    print (F_b)\n",
    "    \n",
    "    #Turns conv_stride, pool_ksize, and pool_strides tuples into arrays\n",
    "    conv_stride_batch = 1\n",
    "    conv_stride_features = 1\n",
    "    conv_strides_Arr = [conv_stride_batch]\n",
    "    for i in conv_strides:\n",
    "        conv_strides_Arr.append(i)\n",
    "    conv_strides_Arr.append(conv_stride_features)\n",
    "       \n",
    "    pool_ksize_batch = 1\n",
    "    pool_ksize_features = 1\n",
    "    pool_ksize_Arr = [pool_ksize_batch]\n",
    "    for i in pool_ksize:\n",
    "        pool_ksize_Arr.append(i)\n",
    "    pool_ksize_Arr.append(pool_ksize_features)\n",
    "    \n",
    "    pool_strides_batch = 1\n",
    "    pool_strides_features = 1\n",
    "    pool_strides_Arr = [pool_strides_batch]\n",
    "    for i in pool_strides:\n",
    "        pool_strides_Arr.append(i)\n",
    "    pool_strides_Arr.append(pool_strides_features)\n",
    "    \n",
    "    #Conv2d and max_pool tensorflow functions\n",
    "    layer_conv = tf.nn.conv2d(input=x_tensor, filter=F_w, strides=conv_strides_Arr, padding='SAME') + F_b\n",
    "    print (layer_conv)\n",
    "    \n",
    "    layer_pool = tf.nn.max_pool(layer_conv, pool_ksize_Arr, strides=pool_strides_Arr, padding='SAME')\n",
    "    return layer_pool\n",
    "\n",
    "\n",
    "\"\"\"\n",
    "DON'T MODIFY ANYTHING IN THIS CELL THAT IS BELOW THIS LINE\n",
    "\"\"\"\n",
    "tests.test_con_pool(conv2d_maxpool)"
   ]
  },
  {
   "cell_type": "markdown",
   "metadata": {},
   "source": [
    "### Flatten Layer\n",
    "Implement the `flatten` function to change the dimension of `x_tensor` from a 4-D tensor to a 2-D tensor.  The output should be the shape (*Batch Size*, *Flattened Image Size*). Shortcut option: you can use classes from the [TensorFlow Layers](https://www.tensorflow.org/api_docs/python/tf/layers) or [TensorFlow Layers (contrib)](https://www.tensorflow.org/api_guides/python/contrib.layers) packages for this layer. For more of a challenge, only use other TensorFlow packages."
   ]
  },
  {
   "cell_type": "code",
   "execution_count": 9,
   "metadata": {
    "collapsed": false
   },
   "outputs": [
    {
     "name": "stdout",
     "output_type": "stream",
     "text": [
      "Tests Passed\n"
     ]
    }
   ],
   "source": [
    "def flatten(x_tensor):\n",
    "    \"\"\"\n",
    "    Flatten x_tensor to (Batch Size, Flattened Image Size)\n",
    "    : x_tensor: A tensor of size (Batch Size, ...), where ... are the image dimensions.\n",
    "    : return: A tensor of size (Batch Size, Flattened Image Size).\n",
    "    \"\"\"\n",
    "    # TODO: Implement Function\n",
    "    return tf.contrib.layers.flatten(x_tensor)\n",
    "\n",
    "\n",
    "\"\"\"\n",
    "DON'T MODIFY ANYTHING IN THIS CELL THAT IS BELOW THIS LINE\n",
    "\"\"\"\n",
    "tests.test_flatten(flatten)"
   ]
  },
  {
   "cell_type": "markdown",
   "metadata": {},
   "source": [
    "### Fully-Connected Layer\n",
    "Implement the `fully_conn` function to apply a fully connected layer to `x_tensor` with the shape (*Batch Size*, *num_outputs*). Shortcut option: you can use classes from the [TensorFlow Layers](https://www.tensorflow.org/api_docs/python/tf/layers) or [TensorFlow Layers (contrib)](https://www.tensorflow.org/api_guides/python/contrib.layers) packages for this layer. For more of a challenge, only use other TensorFlow packages."
   ]
  },
  {
   "cell_type": "code",
   "execution_count": 10,
   "metadata": {
    "collapsed": false
   },
   "outputs": [
    {
     "name": "stdout",
     "output_type": "stream",
     "text": [
      "128\n",
      "Tests Passed\n"
     ]
    }
   ],
   "source": [
    "def fully_conn(x_tensor, num_outputs):\n",
    "    \"\"\"\n",
    "    Apply a fully connected layer to x_tensor using weight and bias\n",
    "    : x_tensor: A 2-D tensor where the first dimension is batch size.\n",
    "    : num_outputs: The number of output that the new tensor should be.\n",
    "    : return: A 2-D tensor where the second dimension is num_outputs.\n",
    "    \"\"\"\n",
    "    # TODO: Implement Function\n",
    "    #return tf.contrib.layers.fully_connected(x_tensor, num_outputs, activation_fn=tf.sigmoid)\n",
    "#     layer1 = tf.contrib.layers.fully_connected(x_tensor, num_outputs, activation_fn = None)\n",
    "#     layer2 = tf.nn.relu(layer1)\n",
    "#     return layer2\n",
    "\n",
    "    x_tensor_shape = x_tensor.get_shape().as_list()[1]\n",
    "    print(x_tensor_shape)\n",
    "    weights = tf.Variable(tf.truncated_normal(\n",
    "        [x_tensor_shape, num_outputs],\n",
    "        stddev=0.1\n",
    "    ))\n",
    "    biases = tf.Variable(tf.zeros([num_outputs]))\n",
    "    return tf.add(tf.matmul(x_tensor, weights), biases)\n",
    "\n",
    "\n",
    "\"\"\"\n",
    "DON'T MODIFY ANYTHING IN THIS CELL THAT IS BELOW THIS LINE\n",
    "\"\"\"\n",
    "tests.test_fully_conn(fully_conn)"
   ]
  },
  {
   "cell_type": "markdown",
   "metadata": {},
   "source": [
    "### Output Layer\n",
    "Implement the `output` function to apply a fully connected layer to `x_tensor` with the shape (*Batch Size*, *num_outputs*). Shortcut option: you can use classes from the [TensorFlow Layers](https://www.tensorflow.org/api_docs/python/tf/layers) or [TensorFlow Layers (contrib)](https://www.tensorflow.org/api_guides/python/contrib.layers) packages for this layer. For more of a challenge, only use other TensorFlow packages.\n",
    "\n",
    "**Note:** Activation, softmax, or cross entropy should **not** be applied to this."
   ]
  },
  {
   "cell_type": "code",
   "execution_count": 11,
   "metadata": {
    "collapsed": false
   },
   "outputs": [
    {
     "name": "stdout",
     "output_type": "stream",
     "text": [
      "128\n",
      "Tests Passed\n"
     ]
    }
   ],
   "source": [
    "def output(x_tensor, num_outputs):\n",
    "    \"\"\"\n",
    "    Apply a output layer to x_tensor using weight and bias\n",
    "    : x_tensor: A 2-D tensor where the first dimension is batch size.\n",
    "    : num_outputs: The number of output that the new tensor should be.\n",
    "    : return: A 2-D tensor where the second dimension is num_outputs.\n",
    "    \"\"\"\n",
    "    # TODO: Implement Function\n",
    "#     layer = tf.contrib.layers.fully_connected(x_tensor, num_outputs, activation_fn=None)\n",
    "#     return layer\n",
    "\n",
    "    x_tensor_shape = x_tensor.get_shape().as_list()[1]\n",
    "    print(x_tensor_shape)\n",
    "    weights = tf.Variable(tf.truncated_normal(\n",
    "        [x_tensor_shape, num_outputs],\n",
    "        stddev=0.1\n",
    "    ))\n",
    "    biases = tf.Variable(tf.zeros([num_outputs]))\n",
    "    return tf.add(tf.matmul(x_tensor, weights), biases)\n",
    "\n",
    "\"\"\"\n",
    "DON'T MODIFY ANYTHING IN THIS CELL THAT IS BELOW THIS LINE\n",
    "\"\"\"\n",
    "tests.test_output(output)"
   ]
  },
  {
   "cell_type": "markdown",
   "metadata": {},
   "source": [
    "### Create Convolutional Model\n",
    "Implement the function `conv_net` to create a convolutional neural network model. The function takes in a batch of images, `x`, and outputs logits.  Use the layers you created above to create this model:\n",
    "\n",
    "* Apply 1, 2, or 3 Convolution and Max Pool layers\n",
    "* Apply a Flatten Layer\n",
    "* Apply 1, 2, or 3 Fully Connected Layers\n",
    "* Apply an Output Layer\n",
    "* Return the output\n",
    "* Apply [TensorFlow's Dropout](https://www.tensorflow.org/api_docs/python/tf/nn/dropout) to one or more layers in the model using `keep_prob`. "
   ]
  },
  {
   "cell_type": "code",
   "execution_count": 12,
   "metadata": {
    "collapsed": false,
    "scrolled": false
   },
   "outputs": [
    {
     "name": "stdout",
     "output_type": "stream",
     "text": [
      "[None, 32, 32, 3]\n",
      "[None, 32, 32, 3]\n",
      "[3, 3, 3, 32]\n",
      "Tensor(\"Variable/read:0\", shape=(3, 3, 3, 32), dtype=float32)\n",
      "Tensor(\"Variable_1/read:0\", shape=(32,), dtype=float32)\n",
      "Tensor(\"add:0\", shape=(?, 32, 32, 32), dtype=float32)\n",
      "32768\n",
      "30\n",
      "[None, 32, 32, 3]\n",
      "[3, 3, 3, 32]\n",
      "Tensor(\"Variable_6/read:0\", shape=(3, 3, 3, 32), dtype=float32)\n",
      "Tensor(\"Variable_7/read:0\", shape=(32,), dtype=float32)\n",
      "Tensor(\"add_1:0\", shape=(?, 32, 32, 32), dtype=float32)\n",
      "32768\n",
      "30\n",
      "Neural Network Built!\n"
     ]
    }
   ],
   "source": [
    "def conv_net(x, keep_prob):\n",
    "    \"\"\"\n",
    "    Create a convolutional neural network model\n",
    "    : x: Placeholder tensor that holds image data.\n",
    "    : keep_prob: Placeholder tensor that hold dropout keep probability.\n",
    "    : return: Tensor that represents logits\n",
    "    \"\"\"\n",
    "    #Conv_2d and maxpool layer \n",
    "    conv2d_maxpool_layer = conv2d_maxpool(x, 32, (3,3), (1,1), (3,3), (1,1))\n",
    "    \n",
    "    #Applying dropout to conv2d_maxpool layer\n",
    "    dropped_conv2d_maxpool_layer = tf.nn.dropout(conv2d_maxpool_layer, keep_prob)\n",
    "\n",
    "    #Using tf function to flatten layer\n",
    "    flattened_layer = flatten(conv2d_maxpool_layer)\n",
    "    \n",
    "    #Fully connected layer\n",
    "    fully_connected_layer = fully_conn(flattened_layer, 30)\n",
    "    \n",
    "    #Output layer\n",
    "    output_layer = output(fully_connected_layer, 10)\n",
    "    \n",
    "    return output_layer\n",
    "\n",
    "\n",
    "\n",
    "\"\"\"\n",
    "DON'T MODIFY ANYTHING IN THIS CELL THAT IS BELOW THIS LINE\n",
    "\"\"\"\n",
    "\n",
    "##############################\n",
    "## Build the Neural Network ##\n",
    "##############################\n",
    "\n",
    "# Remove previous weights, bias, inputs, etc..\n",
    "tf.reset_default_graph()\n",
    "\n",
    "# Inputs\n",
    "x = neural_net_image_input((32, 32, 3))\n",
    "y = neural_net_label_input(10)\n",
    "keep_prob = neural_net_keep_prob_input()\n",
    "\n",
    "# Model\n",
    "logits = conv_net(x, keep_prob)\n",
    "\n",
    "# Name logits Tensor, so that is can be loaded from disk after training\n",
    "logits = tf.identity(logits, name='logits')\n",
    "\n",
    "# Loss and Optimizer\n",
    "cost = tf.reduce_mean(tf.nn.softmax_cross_entropy_with_logits(logits=logits, labels=y))\n",
    "optimizer = tf.train.AdamOptimizer().minimize(cost)\n",
    "\n",
    "# Accuracy\n",
    "correct_pred = tf.equal(tf.argmax(logits, 1), tf.argmax(y, 1))\n",
    "accuracy = tf.reduce_mean(tf.cast(correct_pred, tf.float32), name='accuracy')\n",
    "\n",
    "tests.test_conv_net(conv_net)"
   ]
  },
  {
   "cell_type": "markdown",
   "metadata": {},
   "source": [
    "## Train the Neural Network\n",
    "### Single Optimization\n",
    "Implement the function `train_neural_network` to do a single optimization.  The optimization should use `optimizer` to optimize in `session` with a `feed_dict` of the following:\n",
    "* `x` for image input\n",
    "* `y` for labels\n",
    "* `keep_prob` for keep probability for dropout\n",
    "\n",
    "This function will be called for each batch, so `tf.global_variables_initializer()` has already been called.\n",
    "\n",
    "Note: Nothing needs to be returned. This function is only optimizing the neural network."
   ]
  },
  {
   "cell_type": "code",
   "execution_count": 13,
   "metadata": {
    "collapsed": false
   },
   "outputs": [
    {
     "name": "stdout",
     "output_type": "stream",
     "text": [
      "Tests Passed\n"
     ]
    }
   ],
   "source": [
    "def train_neural_network(session, optimizer, keep_probability, feature_batch, label_batch):\n",
    "    \"\"\"\n",
    "    Optimize the session on a batch of images and labels\n",
    "    : session: Current TensorFlow session\n",
    "    : optimizer: TensorFlow optimizer function\n",
    "    : keep_probability: keep probability\n",
    "    : feature_batch: Batch of Numpy image data\n",
    "    : label_batch: Batch of Numpy label data\n",
    "    \"\"\"\n",
    "    # TODO: Implement Function\n",
    "    \n",
    "    session.run(optimizer, feed_dict = {\n",
    "        x: feature_batch,\n",
    "        y: label_batch,\n",
    "        keep_prob: keep_probability\n",
    "    })\n",
    "\n",
    "\"\"\"\n",
    "DON'T MODIFY ANYTHING IN THIS CELL THAT IS BELOW THIS LINE\n",
    "\"\"\"\n",
    "tests.test_train_nn(train_neural_network)"
   ]
  },
  {
   "cell_type": "markdown",
   "metadata": {},
   "source": [
    "### Show Stats\n",
    "Implement the function `print_stats` to print loss and validation accuracy.  Use the global variables `valid_features` and `valid_labels` to calculate validation accuracy.  Use a keep probability of `1.0` to calculate the loss and validation accuracy."
   ]
  },
  {
   "cell_type": "code",
   "execution_count": 14,
   "metadata": {
    "collapsed": false
   },
   "outputs": [],
   "source": [
    "def print_stats(session, feature_batch, label_batch, cost, accuracy):\n",
    "    \"\"\"\n",
    "    Print information about loss and validation accuracy\n",
    "    : session: Current TensorFlow session\n",
    "    : feature_batch: Batch of Numpy image data\n",
    "    : label_batch: Batch of Numpy label data\n",
    "    : cost: TensorFlow cost function\n",
    "    : accuracy: TensorFlow accuracy function\n",
    "    \"\"\"\n",
    "    # TODO: Implement Function\n",
    "    cost = session.run(cost, feed_dict = {\n",
    "        x: feature_batch,\n",
    "        y: label_batch,\n",
    "        keep_prob: 1.0\n",
    "    })\n",
    "    \n",
    "    valid_accuracy = session.run(accuracy, feed_dict = {\n",
    "        x: valid_features,\n",
    "        y: valid_labels,\n",
    "        keep_prob: 1.0\n",
    "    })\n",
    "        \n",
    "        \n",
    "    print('Loss: {} Validation Accuracy: {}'.format(\n",
    "        cost, valid_accuracy\n",
    "    ))\n",
    "\n",
    "    "
   ]
  },
  {
   "cell_type": "markdown",
   "metadata": {},
   "source": [
    "### Hyperparameters\n",
    "Tune the following parameters:\n",
    "* Set `epochs` to the number of iterations until the network stops learning or start overfitting\n",
    "* Set `batch_size` to the highest number that your machine has memory for.  Most people set them to common sizes of memory:\n",
    " * 64\n",
    " * 128\n",
    " * 256\n",
    " * ...\n",
    "* Set `keep_probability` to the probability of keeping a node using dropout"
   ]
  },
  {
   "cell_type": "code",
   "execution_count": 18,
   "metadata": {
    "collapsed": true
   },
   "outputs": [],
   "source": [
    "# TODO: Tune Parameters\n",
    "epochs = 10\n",
    "batch_size = 128\n",
    "keep_probability = 0.5"
   ]
  },
  {
   "cell_type": "markdown",
   "metadata": {},
   "source": [
    "### Train on a Single CIFAR-10 Batch\n",
    "Instead of training the neural network on all the CIFAR-10 batches of data, let's use a single batch. This should save time while you iterate on the model to get a better accuracy.  Once the final validation accuracy is 50% or greater, run the model on all the data in the next section."
   ]
  },
  {
   "cell_type": "code",
   "execution_count": 16,
   "metadata": {
    "collapsed": false,
    "scrolled": true
   },
   "outputs": [
    {
     "name": "stdout",
     "output_type": "stream",
     "text": [
      "Checking the Training on a Single Batch...\n",
      "Epoch  1, CIFAR-10 Batch 1:  Loss: 7.297828674316406 Validation Accuracy: 0.2750000059604645\n",
      "Epoch  2, CIFAR-10 Batch 1:  Loss: 6.313621520996094 Validation Accuracy: 0.2921999990940094\n",
      "Epoch  3, CIFAR-10 Batch 1:  Loss: 4.00203800201416 Validation Accuracy: 0.3125999867916107\n",
      "Epoch  4, CIFAR-10 Batch 1:  Loss: 3.523247241973877 Validation Accuracy: 0.32440000772476196\n",
      "Epoch  5, CIFAR-10 Batch 1:  Loss: 1.986196517944336 Validation Accuracy: 0.3862000107765198\n",
      "Epoch  6, CIFAR-10 Batch 1:  Loss: 2.347090005874634 Validation Accuracy: 0.38260000944137573\n",
      "Epoch  7, CIFAR-10 Batch 1:  Loss: 2.5901858806610107 Validation Accuracy: 0.3763999938964844\n",
      "Epoch  8, CIFAR-10 Batch 1:  Loss: 1.7736713886260986 Validation Accuracy: 0.4106000065803528\n",
      "Epoch  9, CIFAR-10 Batch 1:  Loss: 1.7901413440704346 Validation Accuracy: 0.4025999903678894\n",
      "Epoch 10, CIFAR-10 Batch 1:  Loss: 1.0505449771881104 Validation Accuracy: 0.46160000562667847\n",
      "Epoch 11, CIFAR-10 Batch 1:  Loss: 0.9454488754272461 Validation Accuracy: 0.4699999988079071\n",
      "Epoch 12, CIFAR-10 Batch 1:  Loss: 1.290284514427185 Validation Accuracy: 0.4235999882221222\n",
      "Epoch 13, CIFAR-10 Batch 1:  Loss: 0.9869697690010071 Validation Accuracy: 0.4406000077724457\n",
      "Epoch 14, CIFAR-10 Batch 1:  Loss: 0.9040597677230835 Validation Accuracy: 0.4562000036239624\n",
      "Epoch 15, CIFAR-10 Batch 1:  Loss: 0.7762436866760254 Validation Accuracy: 0.477400004863739\n",
      "Epoch 16, CIFAR-10 Batch 1:  Loss: 0.7161670923233032 Validation Accuracy: 0.4763999879360199\n",
      "Epoch 17, CIFAR-10 Batch 1:  Loss: 0.7257636189460754 Validation Accuracy: 0.45500001311302185\n",
      "Epoch 18, CIFAR-10 Batch 1:  Loss: 0.7590282559394836 Validation Accuracy: 0.4336000084877014\n",
      "Epoch 19, CIFAR-10 Batch 1:  Loss: 0.6570456624031067 Validation Accuracy: 0.49079999327659607\n",
      "Epoch 20, CIFAR-10 Batch 1:  Loss: 0.7293804883956909 Validation Accuracy: 0.4765999913215637\n",
      "Epoch 21, CIFAR-10 Batch 1:  Loss: 0.7050068974494934 Validation Accuracy: 0.49160000681877136\n",
      "Epoch 22, CIFAR-10 Batch 1:  Loss: 0.9143528938293457 Validation Accuracy: 0.48539999127388\n",
      "Epoch 23, CIFAR-10 Batch 1:  Loss: 0.6982818841934204 Validation Accuracy: 0.49540001153945923\n",
      "Epoch 24, CIFAR-10 Batch 1:  Loss: 0.6201411485671997 Validation Accuracy: 0.503600001335144\n",
      "Epoch 25, CIFAR-10 Batch 1:  Loss: 0.5288101434707642 Validation Accuracy: 0.5171999931335449\n",
      "Epoch 26, CIFAR-10 Batch 1:  Loss: 0.4750646650791168 Validation Accuracy: 0.5194000005722046\n",
      "Epoch 27, CIFAR-10 Batch 1:  Loss: 0.513693630695343 Validation Accuracy: 0.5045999884605408\n",
      "Epoch 28, CIFAR-10 Batch 1:  Loss: 0.47689276933670044 Validation Accuracy: 0.5238000154495239\n",
      "Epoch 29, CIFAR-10 Batch 1:  Loss: 0.47562986612319946 Validation Accuracy: 0.5230000019073486\n",
      "Epoch 30, CIFAR-10 Batch 1:  Loss: 0.44184446334838867 Validation Accuracy: 0.5192000269889832\n",
      "Epoch 31, CIFAR-10 Batch 1:  Loss: 0.5431104302406311 Validation Accuracy: 0.47540000081062317\n",
      "Epoch 32, CIFAR-10 Batch 1:  Loss: 0.3984161615371704 Validation Accuracy: 0.5\n",
      "Epoch 33, CIFAR-10 Batch 1:  Loss: 0.3774638772010803 Validation Accuracy: 0.5016000270843506\n",
      "Epoch 34, CIFAR-10 Batch 1:  Loss: 0.3531525731086731 Validation Accuracy: 0.5034000277519226\n",
      "Epoch 35, CIFAR-10 Batch 1:  Loss: 0.3393465280532837 Validation Accuracy: 0.5045999884605408\n",
      "Epoch 36, CIFAR-10 Batch 1:  Loss: 0.33479535579681396 Validation Accuracy: 0.5045999884605408\n",
      "Epoch 37, CIFAR-10 Batch 1:  Loss: 0.3244501054286957 Validation Accuracy: 0.5026000142097473\n",
      "Epoch 38, CIFAR-10 Batch 1:  Loss: 0.2882847189903259 Validation Accuracy: 0.5113999843597412\n",
      "Epoch 39, CIFAR-10 Batch 1:  Loss: 0.2614426016807556 Validation Accuracy: 0.5184000134468079\n",
      "Epoch 40, CIFAR-10 Batch 1:  Loss: 0.25850710272789 Validation Accuracy: 0.5210000276565552\n",
      "Epoch 41, CIFAR-10 Batch 1:  Loss: 0.2517016530036926 Validation Accuracy: 0.5185999870300293\n",
      "Epoch 42, CIFAR-10 Batch 1:  Loss: 0.24553489685058594 Validation Accuracy: 0.5171999931335449\n",
      "Epoch 43, CIFAR-10 Batch 1:  Loss: 0.23297925293445587 Validation Accuracy: 0.5145999789237976\n",
      "Epoch 44, CIFAR-10 Batch 1:  Loss: 0.20417830348014832 Validation Accuracy: 0.5170000195503235\n",
      "Epoch 45, CIFAR-10 Batch 1:  Loss: 0.1703125685453415 Validation Accuracy: 0.5185999870300293\n",
      "Epoch 46, CIFAR-10 Batch 1:  Loss: 0.1528104543685913 Validation Accuracy: 0.5216000080108643\n",
      "Epoch 47, CIFAR-10 Batch 1:  Loss: 0.23065009713172913 Validation Accuracy: 0.5001999735832214\n",
      "Epoch 48, CIFAR-10 Batch 1:  Loss: 0.3440018594264984 Validation Accuracy: 0.4997999966144562\n",
      "Epoch 49, CIFAR-10 Batch 1:  Loss: 0.2317807674407959 Validation Accuracy: 0.5138000249862671\n",
      "Epoch 50, CIFAR-10 Batch 1:  Loss: 0.2116493284702301 Validation Accuracy: 0.5108000040054321\n"
     ]
    }
   ],
   "source": [
    "\"\"\"\n",
    "DON'T MODIFY ANYTHING IN THIS CELL\n",
    "\"\"\"\n",
    "print('Checking the Training on a Single Batch...')\n",
    "with tf.Session() as sess:\n",
    "    # Initializing the variables\n",
    "    sess.run(tf.global_variables_initializer())\n",
    "    \n",
    "    # Training cycle\n",
    "    for epoch in range(epochs):\n",
    "        batch_i = 1\n",
    "        for batch_features, batch_labels in helper.load_preprocess_training_batch(batch_i, batch_size):\n",
    "            train_neural_network(sess, optimizer, keep_probability, batch_features, batch_labels)\n",
    "        print('Epoch {:>2}, CIFAR-10 Batch {}:  '.format(epoch + 1, batch_i), end='')\n",
    "        print_stats(sess, batch_features, batch_labels, cost, accuracy)"
   ]
  },
  {
   "cell_type": "markdown",
   "metadata": {},
   "source": [
    "### Fully Train the Model\n",
    "Now that you got a good accuracy with a single CIFAR-10 batch, try it with all five batches."
   ]
  },
  {
   "cell_type": "code",
   "execution_count": 19,
   "metadata": {
    "collapsed": false,
    "scrolled": true
   },
   "outputs": [
    {
     "name": "stdout",
     "output_type": "stream",
     "text": [
      "Training...\n",
      "Epoch  1, CIFAR-10 Batch 1:  Loss: 4.903387546539307 Validation Accuracy: 0.28540000319480896\n",
      "Epoch  1, CIFAR-10 Batch 2:  Loss: 3.3961410522460938 Validation Accuracy: 0.33559998869895935\n",
      "Epoch  1, CIFAR-10 Batch 3:  Loss: 2.6952483654022217 Validation Accuracy: 0.35499998927116394\n",
      "Epoch  1, CIFAR-10 Batch 4:  Loss: 1.6772762537002563 Validation Accuracy: 0.37299999594688416\n",
      "Epoch  1, CIFAR-10 Batch 5:  Loss: 2.134746551513672 Validation Accuracy: 0.38839998841285706\n",
      "Epoch  2, CIFAR-10 Batch 1:  Loss: 2.3463826179504395 Validation Accuracy: 0.4352000057697296\n",
      "Epoch  2, CIFAR-10 Batch 2:  Loss: 1.37192702293396 Validation Accuracy: 0.44940000772476196\n",
      "Epoch  2, CIFAR-10 Batch 3:  Loss: 1.5224953889846802 Validation Accuracy: 0.4025999903678894\n",
      "Epoch  2, CIFAR-10 Batch 4:  Loss: 1.1189441680908203 Validation Accuracy: 0.4607999920845032\n",
      "Epoch  2, CIFAR-10 Batch 5:  Loss: 1.3599984645843506 Validation Accuracy: 0.47360000014305115\n",
      "Epoch  3, CIFAR-10 Batch 1:  Loss: 1.6136375665664673 Validation Accuracy: 0.43860000371932983\n",
      "Epoch  3, CIFAR-10 Batch 2:  Loss: 1.0332911014556885 Validation Accuracy: 0.47440001368522644\n",
      "Epoch  3, CIFAR-10 Batch 3:  Loss: 0.9914295077323914 Validation Accuracy: 0.5212000012397766\n",
      "Epoch  3, CIFAR-10 Batch 4:  Loss: 1.0878647565841675 Validation Accuracy: 0.48179998993873596\n",
      "Epoch  3, CIFAR-10 Batch 5:  Loss: 1.214476466178894 Validation Accuracy: 0.49900001287460327\n",
      "Epoch  4, CIFAR-10 Batch 1:  Loss: 1.3519737720489502 Validation Accuracy: 0.47859999537467957\n",
      "Epoch  4, CIFAR-10 Batch 2:  Loss: 1.0350050926208496 Validation Accuracy: 0.46059998869895935\n",
      "Epoch  4, CIFAR-10 Batch 3:  Loss: 0.8725223541259766 Validation Accuracy: 0.5192000269889832\n",
      "Epoch  4, CIFAR-10 Batch 4:  Loss: 0.9670108556747437 Validation Accuracy: 0.5329999923706055\n",
      "Epoch  4, CIFAR-10 Batch 5:  Loss: 0.995145320892334 Validation Accuracy: 0.5436000227928162\n",
      "Epoch  5, CIFAR-10 Batch 1:  Loss: 1.2269195318222046 Validation Accuracy: 0.5388000011444092\n",
      "Epoch  5, CIFAR-10 Batch 2:  Loss: 0.8557285070419312 Validation Accuracy: 0.5023999810218811\n",
      "Epoch  5, CIFAR-10 Batch 3:  Loss: 0.8518949747085571 Validation Accuracy: 0.5631999969482422\n",
      "Epoch  5, CIFAR-10 Batch 4:  Loss: 0.8183498382568359 Validation Accuracy: 0.5667999982833862\n",
      "Epoch  5, CIFAR-10 Batch 5:  Loss: 1.0100281238555908 Validation Accuracy: 0.5383999943733215\n",
      "Epoch  6, CIFAR-10 Batch 1:  Loss: 1.0616121292114258 Validation Accuracy: 0.546999990940094\n",
      "Epoch  6, CIFAR-10 Batch 2:  Loss: 0.752799391746521 Validation Accuracy: 0.5483999848365784\n",
      "Epoch  6, CIFAR-10 Batch 3:  Loss: 0.8237314224243164 Validation Accuracy: 0.5605999827384949\n",
      "Epoch  6, CIFAR-10 Batch 4:  Loss: 0.8095979690551758 Validation Accuracy: 0.569599986076355\n",
      "Epoch  6, CIFAR-10 Batch 5:  Loss: 0.9296318888664246 Validation Accuracy: 0.5655999779701233\n",
      "Epoch  7, CIFAR-10 Batch 1:  Loss: 0.9444993734359741 Validation Accuracy: 0.5655999779701233\n",
      "Epoch  7, CIFAR-10 Batch 2:  Loss: 0.6788122057914734 Validation Accuracy: 0.5770000219345093\n",
      "Epoch  7, CIFAR-10 Batch 3:  Loss: 0.7180521488189697 Validation Accuracy: 0.5776000022888184\n",
      "Epoch  7, CIFAR-10 Batch 4:  Loss: 0.780547022819519 Validation Accuracy: 0.5767999887466431\n",
      "Epoch  7, CIFAR-10 Batch 5:  Loss: 0.8687379956245422 Validation Accuracy: 0.5853999853134155\n",
      "Epoch  8, CIFAR-10 Batch 1:  Loss: 0.8876897692680359 Validation Accuracy: 0.5699999928474426\n",
      "Epoch  8, CIFAR-10 Batch 2:  Loss: 0.6351974606513977 Validation Accuracy: 0.5907999873161316\n",
      "Epoch  8, CIFAR-10 Batch 3:  Loss: 0.6645654439926147 Validation Accuracy: 0.5866000056266785\n",
      "Epoch  8, CIFAR-10 Batch 4:  Loss: 0.7359631657600403 Validation Accuracy: 0.5866000056266785\n",
      "Epoch  8, CIFAR-10 Batch 5:  Loss: 0.8206882476806641 Validation Accuracy: 0.5929999947547913\n",
      "Epoch  9, CIFAR-10 Batch 1:  Loss: 0.8486364483833313 Validation Accuracy: 0.5799999833106995\n",
      "Epoch  9, CIFAR-10 Batch 2:  Loss: 0.5983209013938904 Validation Accuracy: 0.5924000144004822\n",
      "Epoch  9, CIFAR-10 Batch 3:  Loss: 0.6298092007637024 Validation Accuracy: 0.5911999940872192\n",
      "Epoch  9, CIFAR-10 Batch 4:  Loss: 0.691393256187439 Validation Accuracy: 0.592199981212616\n",
      "Epoch  9, CIFAR-10 Batch 5:  Loss: 0.7809516191482544 Validation Accuracy: 0.5947999954223633\n",
      "Epoch 10, CIFAR-10 Batch 1:  Loss: 0.8030875325202942 Validation Accuracy: 0.5861999988555908\n",
      "Epoch 10, CIFAR-10 Batch 2:  Loss: 0.5591295957565308 Validation Accuracy: 0.5920000076293945\n",
      "Epoch 10, CIFAR-10 Batch 3:  Loss: 0.6026250720024109 Validation Accuracy: 0.5911999940872192\n",
      "Epoch 10, CIFAR-10 Batch 4:  Loss: 0.6498113870620728 Validation Accuracy: 0.597599983215332\n",
      "Epoch 10, CIFAR-10 Batch 5:  Loss: 0.7495743632316589 Validation Accuracy: 0.592199981212616\n"
     ]
    }
   ],
   "source": [
    "\"\"\"\n",
    "DON'T MODIFY ANYTHING IN THIS CELL\n",
    "\"\"\"\n",
    "save_model_path = './image_classification'\n",
    "\n",
    "print('Training...')\n",
    "with tf.Session() as sess:\n",
    "    # Initializing the variables\n",
    "    sess.run(tf.global_variables_initializer())\n",
    "    \n",
    "    # Training cycle\n",
    "    for epoch in range(epochs):\n",
    "        # Loop over all batches\n",
    "        n_batches = 5\n",
    "        for batch_i in range(1, n_batches + 1):\n",
    "            for batch_features, batch_labels in helper.load_preprocess_training_batch(batch_i, batch_size):\n",
    "                train_neural_network(sess, optimizer, keep_probability, batch_features, batch_labels)\n",
    "            print('Epoch {:>2}, CIFAR-10 Batch {}:  '.format(epoch + 1, batch_i), end='')\n",
    "            print_stats(sess, batch_features, batch_labels, cost, accuracy)\n",
    "            \n",
    "    # Save Model\n",
    "    saver = tf.train.Saver()\n",
    "    save_path = saver.save(sess, save_model_path)"
   ]
  },
  {
   "cell_type": "markdown",
   "metadata": {},
   "source": [
    "# Checkpoint\n",
    "The model has been saved to disk.\n",
    "## Test Model\n",
    "Test your model against the test dataset.  This will be your final accuracy. You should have an accuracy greater than 50%. If you don't, keep tweaking the model architecture and parameters."
   ]
  },
  {
   "cell_type": "code",
   "execution_count": null,
   "metadata": {
    "collapsed": false
   },
   "outputs": [],
   "source": [
    "\"\"\"\n",
    "DON'T MODIFY ANYTHING IN THIS CELL\n",
    "\"\"\"\n",
    "%matplotlib inline\n",
    "%config InlineBackend.figure_format = 'retina'\n",
    "\n",
    "import tensorflow as tf\n",
    "import pickle\n",
    "import helper\n",
    "import random\n",
    "\n",
    "# Set batch size if not already set\n",
    "try:\n",
    "    if batch_size:\n",
    "        pass\n",
    "except NameError:\n",
    "    batch_size = 64\n",
    "\n",
    "save_model_path = './image_classification'\n",
    "n_samples = 4\n",
    "top_n_predictions = 3\n",
    "\n",
    "def test_model():\n",
    "    \"\"\"\n",
    "    Test the saved model against the test dataset\n",
    "    \"\"\"\n",
    "\n",
    "    test_features, test_labels = pickle.load(open('preprocess_training.p', mode='rb'))\n",
    "    loaded_graph = tf.Graph()\n",
    "\n",
    "    with tf.Session(graph=loaded_graph) as sess:\n",
    "        # Load model\n",
    "        loader = tf.train.import_meta_graph(save_model_path + '.meta')\n",
    "        loader.restore(sess, save_model_path)\n",
    "\n",
    "        # Get Tensors from loaded model\n",
    "        loaded_x = loaded_graph.get_tensor_by_name('x:0')\n",
    "        loaded_y = loaded_graph.get_tensor_by_name('y:0')\n",
    "        loaded_keep_prob = loaded_graph.get_tensor_by_name('keep_prob:0')\n",
    "        loaded_logits = loaded_graph.get_tensor_by_name('logits:0')\n",
    "        loaded_acc = loaded_graph.get_tensor_by_name('accuracy:0')\n",
    "        \n",
    "        # Get accuracy in batches for memory limitations\n",
    "        test_batch_acc_total = 0\n",
    "        test_batch_count = 0\n",
    "        \n",
    "        for train_feature_batch, train_label_batch in helper.batch_features_labels(test_features, test_labels, batch_size):\n",
    "            test_batch_acc_total += sess.run(\n",
    "                loaded_acc,\n",
    "                feed_dict={loaded_x: train_feature_batch, loaded_y: train_label_batch, loaded_keep_prob: 1.0})\n",
    "            test_batch_count += 1\n",
    "\n",
    "        print('Testing Accuracy: {}\\n'.format(test_batch_acc_total/test_batch_count))\n",
    "\n",
    "        # Print Random Samples\n",
    "        random_test_features, random_test_labels = tuple(zip(*random.sample(list(zip(test_features, test_labels)), n_samples)))\n",
    "        random_test_predictions = sess.run(\n",
    "            tf.nn.top_k(tf.nn.softmax(loaded_logits), top_n_predictions),\n",
    "            feed_dict={loaded_x: random_test_features, loaded_y: random_test_labels, loaded_keep_prob: 1.0})\n",
    "        helper.display_image_predictions(random_test_features, random_test_labels, random_test_predictions)\n",
    "\n",
    "\n",
    "test_model()"
   ]
  },
  {
   "cell_type": "markdown",
   "metadata": {},
   "source": [
    "## Why 50-70% Accuracy?\n",
    "You might be wondering why you can't get an accuracy any higher. First things first, 50% isn't bad for a simple CNN.  Pure guessing would get you 10% accuracy. However, you might notice people are getting scores [well above 70%](http://rodrigob.github.io/are_we_there_yet/build/classification_datasets_results.html#43494641522d3130).  That's because we haven't taught you all there is to know about neural networks. We still need to cover a few more techniques.\n",
    "## Submitting This Project\n",
    "When submitting this project, make sure to run all the cells before saving the notebook.  Save the notebook file as \"dlnd_image_classification.ipynb\" and save it as a HTML file under \"File\" -> \"Download as\".  Include the \"helper.py\" and \"problem_unittests.py\" files in your submission."
   ]
  },
  {
   "cell_type": "code",
   "execution_count": null,
   "metadata": {
    "collapsed": true
   },
   "outputs": [],
   "source": []
  },
  {
   "cell_type": "code",
   "execution_count": null,
   "metadata": {
    "collapsed": true
   },
   "outputs": [],
   "source": []
  }
 ],
 "metadata": {
  "kernelspec": {
   "display_name": "Python 3",
   "language": "python",
   "name": "python3"
  },
  "language_info": {
   "codemirror_mode": {
    "name": "ipython",
    "version": 3
   },
   "file_extension": ".py",
   "mimetype": "text/x-python",
   "name": "python",
   "nbconvert_exporter": "python",
   "pygments_lexer": "ipython3",
   "version": "3.5.3"
  }
 },
 "nbformat": 4,
 "nbformat_minor": 0
}
