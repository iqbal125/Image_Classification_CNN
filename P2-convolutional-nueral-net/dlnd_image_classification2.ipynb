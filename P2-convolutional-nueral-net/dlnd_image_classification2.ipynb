{
 "cells": [
  {
   "cell_type": "markdown",
   "metadata": {
    "collapsed": true
   },
   "source": [
    "# Image Classification\n",
    "In this project, you'll classify images from the [CIFAR-10 dataset](https://www.cs.toronto.edu/~kriz/cifar.html).  The dataset consists of airplanes, dogs, cats, and other objects. You'll preprocess the images, then train a convolutional neural network on all the samples. The images need to be normalized and the labels need to be one-hot encoded.  You'll get to apply what you learned and build a convolutional, max pooling, dropout, and fully connected layers.  At the end, you'll get to see your neural network's predictions on the sample images.\n",
    "## Get the Data\n",
    "Run the following cell to download the [CIFAR-10 dataset for python](https://www.cs.toronto.edu/~kriz/cifar-10-python.tar.gz)."
   ]
  },
  {
   "cell_type": "code",
   "execution_count": 155,
   "metadata": {
    "collapsed": false
   },
   "outputs": [
    {
     "name": "stdout",
     "output_type": "stream",
     "text": [
      "All files found!\n"
     ]
    }
   ],
   "source": [
    "\"\"\"\n",
    "DON'T MODIFY ANYTHING IN THIS CELL THAT IS BELOW THIS LINE\n",
    "\"\"\"\n",
    "from urllib.request import urlretrieve\n",
    "from os.path import isfile, isdir\n",
    "from tqdm import tqdm\n",
    "import problem_unittests as tests\n",
    "import tarfile\n",
    "\n",
    "cifar10_dataset_folder_path = 'cifar-10-batches-py'\n",
    "\n",
    "class DLProgress(tqdm):\n",
    "    last_block = 0\n",
    "\n",
    "    def hook(self, block_num=1, block_size=1, total_size=None):\n",
    "        self.total = total_size\n",
    "        self.update((block_num - self.last_block) * block_size)\n",
    "        self.last_block = block_num\n",
    "\n",
    "if not isfile('cifar-10-python.tar.gz'):\n",
    "    with DLProgress(unit='B', unit_scale=True, miniters=1, desc='CIFAR-10 Dataset') as pbar:\n",
    "        urlretrieve(\n",
    "            'https://www.cs.toronto.edu/~kriz/cifar-10-python.tar.gz',\n",
    "            'cifar-10-python.tar.gz',\n",
    "            pbar.hook)\n",
    "\n",
    "if not isdir(cifar10_dataset_folder_path):\n",
    "    with tarfile.open('cifar-10-python.tar.gz') as tar:\n",
    "        tar.extractall()\n",
    "        tar.close()\n",
    "\n",
    "\n",
    "tests.test_folder_path(cifar10_dataset_folder_path)"
   ]
  },
  {
   "cell_type": "markdown",
   "metadata": {},
   "source": [
    "## Explore the Data\n",
    "The dataset is broken into batches to prevent your machine from running out of memory.  The CIFAR-10 dataset consists of 5 batches, named `data_batch_1`, `data_batch_2`, etc.. Each batch contains the labels and images that are one of the following:\n",
    "* airplane\n",
    "* automobile\n",
    "* bird\n",
    "* cat\n",
    "* deer\n",
    "* dog\n",
    "* frog\n",
    "* horse\n",
    "* ship\n",
    "* truck\n",
    "\n",
    "Understanding a dataset is part of making predictions on the data.  Play around with the code cell below by changing the `batch_id` and `sample_id`. The `batch_id` is the id for a batch (1-5). The `sample_id` is the id for a image and label pair in the batch.\n",
    "\n",
    "Ask yourself \"What are all possible labels?\", \"What is the range of values for the image data?\", \"Are the labels in order or random?\".  Answers to questions like these will help you preprocess the data and end up with better predictions."
   ]
  },
  {
   "cell_type": "code",
   "execution_count": 156,
   "metadata": {
    "collapsed": false
   },
   "outputs": [
    {
     "name": "stdout",
     "output_type": "stream",
     "text": [
      "\n",
      "Stats of batch 2:\n",
      "Samples: 10000\n",
      "Label Counts: {0: 984, 1: 1007, 2: 1010, 3: 995, 4: 1010, 5: 988, 6: 1008, 7: 1026, 8: 987, 9: 985}\n",
      "First 20 Labels: [1, 6, 6, 8, 8, 3, 4, 6, 0, 6, 0, 3, 6, 6, 5, 4, 8, 3, 2, 6]\n",
      "\n",
      "Example of Image 9:\n",
      "Image - Min Value: 40 Max Value: 229\n",
      "Image - Shape: (32, 32, 3)\n",
      "Label - Label Id: 6 Name: frog\n"
     ]
    },
    {
     "data": {
      "image/png": "[encoded data removed]",
      "text/plain": [
       "<matplotlib.figure.Figure at 0x93e6128>"
      ]
     },
     "metadata": {
      "image/png": {
       "height": 250,
       "width": 253
      }
     },
     "output_type": "display_data"
    }
   ],
   "source": [
    "%matplotlib inline\n",
    "%config InlineBackend.figure_format = 'retina'\n",
    "\n",
    "import helper\n",
    "import numpy as np\n",
    "\n",
    "# Explore the dataset\n",
    "batch_id = 2\n",
    "sample_id = 9\n",
    "helper.display_stats(cifar10_dataset_folder_path, batch_id, sample_id)"
   ]
  },
  {
   "cell_type": "markdown",
   "metadata": {},
   "source": [
    "## Implement Preprocess Functions\n",
    "### Normalize\n",
    "In the cell below, implement the `normalize` function to take in image data, `x`, and return it as a normalized Numpy array. The values should be in the range of 0 to 1, inclusive.  The return object should be the same shape as `x`."
   ]
  },
  {
   "cell_type": "code",
   "execution_count": 157,
   "metadata": {
    "collapsed": false
   },
   "outputs": [
    {
     "name": "stdout",
     "output_type": "stream",
     "text": [
      "Tests Passed\n"
     ]
    }
   ],
   "source": [
    "def normalize(x):\n",
    "    \"\"\"\n",
    "    Normalize a list of sample image data in the range of 0 to 1\n",
    "    : x: List of image data.  The image shape is (32, 32, 3)\n",
    "    : return: Numpy array of normalize data\n",
    "    \"\"\"\n",
    "    # TODO: Implement Function\n",
    "    return np.array((x) / (255))\n",
    "\n",
    "\n",
    "\"\"\"\n",
    "DON'T MODIFY ANYTHING IN THIS CELL THAT IS BELOW THIS LINE\n",
    "\"\"\"\n",
    "tests.test_normalize(normalize)"
   ]
  },
  {
   "cell_type": "markdown",
   "metadata": {},
   "source": [
    "### One-hot encode\n",
    "Just like the previous code cell, you'll be implementing a function for preprocessing.  This time, you'll implement the `one_hot_encode` function. The input, `x`, are a list of labels.  Implement the function to return the list of labels as One-Hot encoded Numpy array.  The possible values for labels are 0 to 9. The one-hot encoding function should return the same encoding for each value between each call to `one_hot_encode`.  Make sure to save the map of encodings outside the function.\n",
    "\n",
    "Hint: Don't reinvent the wheel."
   ]
  },
  {
   "cell_type": "code",
   "execution_count": 158,
   "metadata": {
    "collapsed": false,
    "scrolled": false
   },
   "outputs": [
    {
     "name": "stdout",
     "output_type": "stream",
     "text": [
      "Tests Passed\n"
     ]
    }
   ],
   "source": [
    "from sklearn import preprocessing\n",
    "\n",
    "def one_hot_encode(x):\n",
    "    \"\"\"\n",
    "    One hot encode a list of sample labels. Return a one-hot encoded vector for each label.\n",
    "    : x: List of sample Labels\n",
    "    : return: Numpy array of one-hot encoded labels\n",
    "    \"\"\"\n",
    "    # TODO: Implement Function\n",
    "    lb = preprocessing.LabelBinarizer()\n",
    "    lb.fit(x)\n",
    "    lb.classes_ = [0, 1, 2, 3, 4, 5, 6, 7, 8, 9]\n",
    "    return lb.transform(x)\n",
    "\n",
    "\n",
    "\n",
    "\"\"\"\n",
    "DON'T MODIFY ANYTHING IN THIS CELL THAT IS BELOW THIS LINE\n",
    "\"\"\"\n",
    "tests.test_one_hot_encode(one_hot_encode)"
   ]
  },
  {
   "cell_type": "markdown",
   "metadata": {},
   "source": [
    "### Randomize Data\n",
    "As you saw from exploring the data above, the order of the samples are randomized.  It doesn't hurt to randomize it again, but you don't need to for this dataset."
   ]
  },
  {
   "cell_type": "markdown",
   "metadata": {},
   "source": [
    "## Preprocess all the data and save it\n",
    "Running the code cell below will preprocess all the CIFAR-10 data and save it to file. The code below also uses 10% of the training data for validation."
   ]
  },
  {
   "cell_type": "code",
   "execution_count": 159,
   "metadata": {
    "collapsed": false
   },
   "outputs": [],
   "source": [
    "\"\"\"\n",
    "DON'T MODIFY ANYTHING IN THIS CELL\n",
    "\"\"\"\n",
    "# Preprocess Training, Validation, and Testing Data\n",
    "helper.preprocess_and_save_data(cifar10_dataset_folder_path, normalize, one_hot_encode)"
   ]
  },
  {
   "cell_type": "markdown",
   "metadata": {},
   "source": [
    "# Check Point\n",
    "This is your first checkpoint.  If you ever decide to come back to this notebook or have to restart the notebook, you can start from here.  The preprocessed data has been saved to disk."
   ]
  },
  {
   "cell_type": "code",
   "execution_count": 160,
   "metadata": {
    "collapsed": false
   },
   "outputs": [],
   "source": [
    "\"\"\"\n",
    "DON'T MODIFY ANYTHING IN THIS CELL\n",
    "\"\"\"\n",
    "import pickle\n",
    "import problem_unittests as tests\n",
    "import helper\n",
    "\n",
    "# Load the Preprocessed Validation data\n",
    "valid_features, valid_labels = pickle.load(open('preprocess_validation.p', mode='rb'))"
   ]
  },
  {
   "cell_type": "markdown",
   "metadata": {},
   "source": [
    "## Build the network\n",
    "For the neural network, you'll build each layer into a function.  Most of the code you've seen has been outside of functions. To test your code more thoroughly, we require that you put each layer in a function.  This allows us to give you better feedback and test for simple mistakes using our unittests before you submit your project.\n",
    "\n",
    ">**Note:** If you're finding it hard to dedicate enough time for this course each week, we've provided a small shortcut to this part of the project. In the next couple of problems, you'll have the option to use classes from the [TensorFlow Layers](https://www.tensorflow.org/api_docs/python/tf/layers) or [TensorFlow Layers (contrib)](https://www.tensorflow.org/api_guides/python/contrib.layers) packages to build each layer, except the layers you build in the \"Convolutional and Max Pooling Layer\" section.  TF Layers is similar to Keras's and TFLearn's abstraction to layers, so it's easy to pickup.\n",
    "\n",
    ">However, if you would like to get the most out of this course, try to solve all the problems _without_ using anything from the TF Layers packages. You **can** still use classes from other packages that happen to have the same name as ones you find in TF Layers! For example, instead of using the TF Layers version of the `conv2d` class, [tf.layers.conv2d](https://www.tensorflow.org/api_docs/python/tf/layers/conv2d), you would want to use the TF Neural Network version of `conv2d`, [tf.nn.conv2d](https://www.tensorflow.org/api_docs/python/tf/nn/conv2d). \n",
    "\n",
    "Let's begin!\n",
    "\n",
    "### Input\n",
    "The neural network needs to read the image data, one-hot encoded labels, and dropout keep probability. Implement the following functions\n",
    "* Implement `neural_net_image_input`\n",
    " * Return a [TF Placeholder](https://www.tensorflow.org/api_docs/python/tf/placeholder)\n",
    " * Set the shape using `image_shape` with batch size set to `None`.\n",
    " * Name the TensorFlow placeholder \"x\" using the TensorFlow `name` parameter in the [TF Placeholder](https://www.tensorflow.org/api_docs/python/tf/placeholder).\n",
    "* Implement `neural_net_label_input`\n",
    " * Return a [TF Placeholder](https://www.tensorflow.org/api_docs/python/tf/placeholder)\n",
    " * Set the shape using `n_classes` with batch size set to `None`.\n",
    " * Name the TensorFlow placeholder \"y\" using the TensorFlow `name` parameter in the [TF Placeholder](https://www.tensorflow.org/api_docs/python/tf/placeholder).\n",
    "* Implement `neural_net_keep_prob_input`\n",
    " * Return a [TF Placeholder](https://www.tensorflow.org/api_docs/python/tf/placeholder) for dropout keep probability.\n",
    " * Name the TensorFlow placeholder \"keep_prob\" using the TensorFlow `name` parameter in the [TF Placeholder](https://www.tensorflow.org/api_docs/python/tf/placeholder).\n",
    "\n",
    "These names will be used at the end of the project to load your saved model.\n",
    "\n",
    "Note: `None` for shapes in TensorFlow allow for a dynamic size."
   ]
  },
  {
   "cell_type": "code",
   "execution_count": 161,
   "metadata": {
    "collapsed": false
   },
   "outputs": [
    {
     "name": "stdout",
     "output_type": "stream",
     "text": [
      "[None, 32, 32, 3]\n",
      "Image Input Tests Passed.\n",
      "Label Input Tests Passed.\n",
      "Keep Prob Tests Passed.\n"
     ]
    }
   ],
   "source": [
    "import tensorflow as tf\n",
    "\n",
    "def neural_net_image_input(image_shape):\n",
    "    \"\"\"\n",
    "    Return a Tensor for a batch of image input\n",
    "    : image_shape: Shape of the images\n",
    "    : return: Tensor for image input.\n",
    "    \"\"\"\n",
    "    # TODO: Implement Function\n",
    "    imgArr = []\n",
    "    imgArr.append(None)\n",
    "    for i in image_shape:\n",
    "        imgArr.append(i)\n",
    "    print (imgArr)\n",
    "    return tf.placeholder(tf.float32, shape=imgArr, name=\"x\")\n",
    "\n",
    "\n",
    "def neural_net_label_input(n_classes):\n",
    "    \"\"\"\n",
    "    Return a Tensor for a batch of label input\n",
    "    : n_classes: Number of classes\n",
    "    : return: Tensor for label input.\n",
    "    \"\"\"\n",
    "    # TODO: Implement Function\n",
    "    return tf.placeholder(tf.float32, shape=[None, n_classes], name=\"y\")\n",
    "\n",
    "\n",
    "def neural_net_keep_prob_input():\n",
    "    \"\"\"\n",
    "    Return a Tensor for keep probability\n",
    "    : return: Tensor for keep probability.\n",
    "    \"\"\"\n",
    "    # TODO: Implement Function\n",
    "    return tf.placeholder(tf.float32, name=\"keep_prob\")\n",
    "\n",
    "\n",
    "\"\"\"\n",
    "DON'T MODIFY ANYTHING IN THIS CELL THAT IS BELOW THIS LINE\n",
    "\"\"\"\n",
    "tf.reset_default_graph()\n",
    "tests.test_nn_image_inputs(neural_net_image_input)\n",
    "tests.test_nn_label_inputs(neural_net_label_input)\n",
    "tests.test_nn_keep_prob_inputs(neural_net_keep_prob_input)"
   ]
  },
  {
   "cell_type": "markdown",
   "metadata": {},
   "source": [
    "### Convolution and Max Pooling Layer\n",
    "Convolution layers have a lot of success with images. For this code cell, you should implement the function `conv2d_maxpool` to apply convolution then max pooling:\n",
    "* Create the weight and bias using `conv_ksize`, `conv_num_outputs` and the shape of `x_tensor`.\n",
    "* Apply a convolution to `x_tensor` using weight and `conv_strides`.\n",
    " * We recommend you use same padding, but you're welcome to use any padding.\n",
    "* Add bias\n",
    "* Add a nonlinear activation to the convolution.\n",
    "* Apply Max Pooling using `pool_ksize` and `pool_strides`.\n",
    " * We recommend you use same padding, but you're welcome to use any padding.\n",
    "\n",
    "**Note:** You **can't** use [TensorFlow Layers](https://www.tensorflow.org/api_docs/python/tf/layers) or [TensorFlow Layers (contrib)](https://www.tensorflow.org/api_guides/python/contrib.layers) for **this** layer, but you can still use TensorFlow's [Neural Network](https://www.tensorflow.org/api_docs/python/tf/nn) package. You may still use the shortcut option for all the **other** layers."
   ]
  },
  {
   "cell_type": "code",
   "execution_count": 162,
   "metadata": {
    "collapsed": false
   },
   "outputs": [
    {
     "name": "stdout",
     "output_type": "stream",
     "text": [
      "5\n",
      "(2, 2)\n",
      "Tests Passed\n"
     ]
    }
   ],
   "source": [
    "def conv2d_maxpool(x_tensor, conv_num_outputs, conv_ksize, conv_strides, pool_ksize, pool_strides):\n",
    "    \"\"\"\n",
    "    Apply convolution then max pooling to x_tensor\n",
    "    :param x_tensor: TensorFlow Tensor\n",
    "    :param conv_num_outputs: Number of outputs for the convolutional layer\n",
    "    :param conv_ksize: kernal size 2-D Tuple for the convolutional layer\n",
    "    :param conv_strides: Stride 2-D Tuple for convolution\n",
    "    :param pool_ksize: kernal size 2-D Tuple for pool\n",
    "    :param pool_strides: Stride 2-D Tuple for pool\n",
    "    : return: A tensor that represents convolution and max pooling of x_tensor\n",
    "    \"\"\"\n",
    "#     in_depth = x_tensor.get_shape().as_list() \n",
    "#     print (in_depth)\n",
    "    \n",
    "#     #Makes a conv_ksize array for use in filter weights (F_w)\n",
    "#     conv_ksize_Arr = []\n",
    "#     for i in conv_ksize:\n",
    "#         conv_ksize_Arr.append(i)\n",
    "#     conv_ksize_Arr.append(in_depth[3])\n",
    "#     conv_ksize_Arr.append(conv_num_outputs)\n",
    "#     print (conv_ksize_Arr)\n",
    "    \n",
    "#     # (height, width, input_depth, output_depth)\n",
    "#     F_w = tf.Variable(tf.truncated_normal((conv_ksize_Arr))) \n",
    "#     print (F_w)\n",
    "    \n",
    "#     # (output_depth)\n",
    "#     F_b = tf.Variable(tf.zeros(conv_num_outputs))\n",
    "#     print (F_b)\n",
    "    \n",
    "#     #Turns conv_stride, pool_ksize, and pool_strides tuples into arrays\n",
    "#     conv_stride_batch = 1\n",
    "#     conv_stride_features = 1\n",
    "#     conv_strides_Arr = [conv_stride_batch]\n",
    "#     for i in conv_strides:\n",
    "#         conv_strides_Arr.append(i)\n",
    "#     conv_strides_Arr.append(conv_stride_features)\n",
    "       \n",
    "#     pool_ksize_batch = 1\n",
    "#     pool_ksize_features = 1\n",
    "#     pool_ksize_Arr = [pool_ksize_batch]\n",
    "#     for i in pool_ksize:\n",
    "#         pool_ksize_Arr.append(i)\n",
    "#     pool_ksize_Arr.append(pool_ksize_features)\n",
    "    \n",
    "#     pool_strides_batch = 1\n",
    "#     pool_strides_features = 1\n",
    "#     pool_strides_Arr = [pool_strides_batch]\n",
    "#     for i in pool_strides:\n",
    "#         pool_strides_Arr.append(i)\n",
    "#     pool_strides_Arr.append(pool_strides_features)\n",
    "    \n",
    "#     #Conv2d and max_pool tensorflow functions\n",
    "#     layer_conv = tf.nn.conv2d(input=x_tensor, filter=F_w, strides=conv_strides_Arr, padding='SAME') + F_b\n",
    "#     print (layer_conv)\n",
    "#     layer_conv_out = tf.nn.relu(layer_conv)\n",
    "    \n",
    "#     layer_pool = tf.nn.max_pool(layer_conv_out, pool_ksize_Arr, strides=pool_strides_Arr, padding='SAME')\n",
    "#     return layer_pool\n",
    "\n",
    "    conv_ksize_height = conv_ksize[0]\n",
    "    conv_ksize_width = conv_ksize[1]\n",
    "    input_depth = x_tensor.get_shape().as_list()[3]\n",
    "    print(input_depth)\n",
    "    print(conv_ksize)\n",
    "    \n",
    "    conv_ksize_weights = tf.Variable(tf.truncated_normal(\n",
    "        [conv_ksize_height, conv_ksize_width, input_depth, conv_num_outputs],\n",
    "        mean=0.0, stddev=0.1\n",
    "    ))\n",
    "    \n",
    "    conv_ksize_bias = tf.Variable(tf.zeros(conv_num_outputs))\n",
    "    \n",
    "    conv_strides = [1, conv_strides[0], conv_strides[1], 1]\n",
    "    result = tf.nn.conv2d(x_tensor, conv_ksize_weights, conv_strides, padding='SAME') + conv_ksize_bias\n",
    "    conv_layer = tf.nn.relu(result)\n",
    "    \n",
    "    pool_ksize_Arr = [1, pool_ksize[0], pool_ksize[1], 1]\n",
    "    pool_strides_Arr = [1, pool_strides[0], pool_strides[1], 1]\n",
    "    \n",
    "    max_pool_layer = tf.nn.max_pool(conv_layer, pool_ksize_Arr, pool_strides_Arr, padding='SAME')\n",
    "        \n",
    "    return max_pool_layer\n",
    "\n",
    "\n",
    "\"\"\"\n",
    "DON'T MODIFY ANYTHING IN THIS CELL THAT IS BELOW THIS LINE\n",
    "\"\"\"\n",
    "tests.test_con_pool(conv2d_maxpool)"
   ]
  },
  {
   "cell_type": "markdown",
   "metadata": {},
   "source": [
    "### Flatten Layer\n",
    "Implement the `flatten` function to change the dimension of `x_tensor` from a 4-D tensor to a 2-D tensor.  The output should be the shape (*Batch Size*, *Flattened Image Size*). Shortcut option: you can use classes from the [TensorFlow Layers](https://www.tensorflow.org/api_docs/python/tf/layers) or [TensorFlow Layers (contrib)](https://www.tensorflow.org/api_guides/python/contrib.layers) packages for this layer. For more of a challenge, only use other TensorFlow packages."
   ]
  },
  {
   "cell_type": "code",
   "execution_count": 163,
   "metadata": {
    "collapsed": false
   },
   "outputs": [
    {
     "name": "stdout",
     "output_type": "stream",
     "text": [
      "Tests Passed\n"
     ]
    }
   ],
   "source": [
    "def flatten(x_tensor):\n",
    "    \"\"\"\n",
    "    Flatten x_tensor to (Batch Size, Flattened Image Size)\n",
    "    : x_tensor: A tensor of size (Batch Size, ...), where ... are the image dimensions.\n",
    "    : return: A tensor of size (Batch Size, Flattened Image Size).\n",
    "    \"\"\"\n",
    "    # TODO: Implement Function\n",
    "    return tf.contrib.layers.flatten(x_tensor)\n",
    "\n",
    "\n",
    "\"\"\"\n",
    "DON'T MODIFY ANYTHING IN THIS CELL THAT IS BELOW THIS LINE\n",
    "\"\"\"\n",
    "tests.test_flatten(flatten)"
   ]
  },
  {
   "cell_type": "markdown",
   "metadata": {},
   "source": [
    "### Fully-Connected Layer\n",
    "Implement the `fully_conn` function to apply a fully connected layer to `x_tensor` with the shape (*Batch Size*, *num_outputs*). Shortcut option: you can use classes from the [TensorFlow Layers](https://www.tensorflow.org/api_docs/python/tf/layers) or [TensorFlow Layers (contrib)](https://www.tensorflow.org/api_guides/python/contrib.layers) packages for this layer. For more of a challenge, only use other TensorFlow packages."
   ]
  },
  {
   "cell_type": "code",
   "execution_count": 170,
   "metadata": {
    "collapsed": false
   },
   "outputs": [
    {
     "name": "stdout",
     "output_type": "stream",
     "text": [
      "[None, 128]\n",
      "Tests Passed\n"
     ]
    }
   ],
   "source": [
    "def fully_conn(x_tensor, num_outputs):\n",
    "    \"\"\"\n",
    "    Apply a fully connected layer to x_tensor using weight and bias\n",
    "    : x_tensor: A 2-D tensor where the first dimension is batch size.\n",
    "    : num_outputs: The number of output that the new tensor should be.\n",
    "    : return: A 2-D tensor where the second dimension is num_outputs.\n",
    "    \"\"\"\n",
    "    # TODO: Implement Function\n",
    "#     #return tf.contrib.layers.fully_connected(x_tensor, num_outputs, activation_fn=tf.sigmoid)\n",
    "#     layer1 = tf.contrib.layers.fully_connected(x_tensor, num_outputs, activation_fn =tf.sigmoid)\n",
    "#     return layer1\n",
    "\n",
    "    shape = x_tensor.get_shape().as_list()\n",
    "    print(shape)\n",
    "    weights = tf.Variable(tf.truncated_normal(\n",
    "        [shape[1], num_outputs],\n",
    "        mean=0.0, stddev=0.1\n",
    "    ))\n",
    "    biases = tf.Variable(tf.zeros([num_outputs]))\n",
    "    \n",
    "    result = tf.add(tf.matmul(x_tensor, weights), biases)\n",
    "    return tf.nn.relu(result)\n",
    "\n",
    "    \n",
    "\n",
    "\n",
    "\"\"\"\n",
    "DON'T MODIFY ANYTHING IN THIS CELL THAT IS BELOW THIS LINE\n",
    "\"\"\"\n",
    "tests.test_fully_conn(fully_conn)"
   ]
  },
  {
   "cell_type": "markdown",
   "metadata": {},
   "source": [
    "### Output Layer\n",
    "Implement the `output` function to apply a fully connected layer to `x_tensor` with the shape (*Batch Size*, *num_outputs*). Shortcut option: you can use classes from the [TensorFlow Layers](https://www.tensorflow.org/api_docs/python/tf/layers) or [TensorFlow Layers (contrib)](https://www.tensorflow.org/api_guides/python/contrib.layers) packages for this layer. For more of a challenge, only use other TensorFlow packages.\n",
    "\n",
    "**Note:** Activation, softmax, or cross entropy should **not** be applied to this."
   ]
  },
  {
   "cell_type": "code",
   "execution_count": 172,
   "metadata": {
    "collapsed": false
   },
   "outputs": [
    {
     "name": "stdout",
     "output_type": "stream",
     "text": [
      "Tests Passed\n"
     ]
    }
   ],
   "source": [
    "def output(x_tensor, num_outputs):\n",
    "    \"\"\"\n",
    "    Apply a output layer to x_tensor using weight and bias\n",
    "    : x_tensor: A 2-D tensor where the first dimension is batch size.\n",
    "    : num_outputs: The number of output that the new tensor should be.\n",
    "    : return: A 2-D tensor where the second dimension is num_outputs.\n",
    "    \"\"\"\n",
    "    # TODO: Implement Function\n",
    "#     layer = tf.contrib.layers.fully_connected(x_tensor, num_outputs, activation_fn=None)\n",
    "#     return layer\n",
    "\n",
    "    shape = x_tensor.get_shape().as_list()\n",
    "    weights = tf.Variable(tf.truncated_normal(\n",
    "        [shape[1], num_outputs], \n",
    "        mean=0.0, stddev=0.1\n",
    "    ))\n",
    "    biases = tf.Variable(tf.zeros(num_outputs))\n",
    "    \n",
    "    return tf.add(tf.matmul(x_tensor, weights), biases)\n",
    "\n",
    "\n",
    "\n",
    "\"\"\"\n",
    "DON'T MODIFY ANYTHING IN THIS CELL THAT IS BELOW THIS LINE\n",
    "\"\"\"\n",
    "tests.test_output(output)"
   ]
  },
  {
   "cell_type": "markdown",
   "metadata": {},
   "source": [
    "### Create Convolutional Model\n",
    "Implement the function `conv_net` to create a convolutional neural network model. The function takes in a batch of images, `x`, and outputs logits.  Use the layers you created above to create this model:\n",
    "\n",
    "* Apply 1, 2, or 3 Convolution and Max Pool layers\n",
    "* Apply a Flatten Layer\n",
    "* Apply 1, 2, or 3 Fully Connected Layers\n",
    "* Apply an Output Layer\n",
    "* Return the output\n",
    "* Apply [TensorFlow's Dropout](https://www.tensorflow.org/api_docs/python/tf/nn/dropout) to one or more layers in the model using `keep_prob`. "
   ]
  },
  {
   "cell_type": "code",
   "execution_count": 173,
   "metadata": {
    "collapsed": false,
    "scrolled": false
   },
   "outputs": [
    {
     "name": "stdout",
     "output_type": "stream",
     "text": [
      "[None, 32, 32, 3]\n",
      "3\n",
      "(3, 3)\n",
      "[None, 32768]\n",
      "3\n",
      "(3, 3)\n",
      "[None, 32768]\n",
      "Neural Network Built!\n"
     ]
    }
   ],
   "source": [
    "def conv_net(x, keep_prob):\n",
    "    \"\"\"\n",
    "    Create a convolutional neural network model\n",
    "    : x: Placeholder tensor that holds image data.\n",
    "    : keep_prob: Placeholder tensor that hold dropout keep probability.\n",
    "    : return: Tensor that represents logits\n",
    "    \"\"\"\n",
    "    #Conv_2d and maxpool layer \n",
    "    conv2d_maxpool_layer = conv2d_maxpool(x, 32, (3,3), (1,1), (3,3), (1,1))\n",
    "    \n",
    "    #Using tf function to flatten layer\n",
    "    flattened_layer = flatten(conv2d_maxpool_layer)\n",
    "    \n",
    "    #Fully connected layer\n",
    "    fully_connected_layer = fully_conn(flattened_layer, 30)\n",
    "    \n",
    "    #Output layer\n",
    "    output_layer = output(fully_connected_layer, 10)\n",
    "    \n",
    "    return output_layer\n",
    "\n",
    "\n",
    "\n",
    "\"\"\"\n",
    "DON'T MODIFY ANYTHING IN THIS CELL THAT IS BELOW THIS LINE\n",
    "\"\"\"\n",
    "\n",
    "##############################\n",
    "## Build the Neural Network ##\n",
    "##############################\n",
    "\n",
    "# Remove previous weights, bias, inputs, etc..\n",
    "tf.reset_default_graph()\n",
    "\n",
    "# Inputs\n",
    "x = neural_net_image_input((32, 32, 3))\n",
    "y = neural_net_label_input(10)\n",
    "keep_prob = neural_net_keep_prob_input()\n",
    "\n",
    "# Model\n",
    "logits = conv_net(x, keep_prob)\n",
    "\n",
    "# Name logits Tensor, so that is can be loaded from disk after training\n",
    "logits = tf.identity(logits, name='logits')\n",
    "\n",
    "# Loss and Optimizer\n",
    "cost = tf.reduce_mean(tf.nn.softmax_cross_entropy_with_logits(logits=logits, labels=y))\n",
    "optimizer = tf.train.AdamOptimizer().minimize(cost)\n",
    "\n",
    "# Accuracy\n",
    "correct_pred = tf.equal(tf.argmax(logits, 1), tf.argmax(y, 1))\n",
    "accuracy = tf.reduce_mean(tf.cast(correct_pred, tf.float32), name='accuracy')\n",
    "\n",
    "tests.test_conv_net(conv_net)"
   ]
  },
  {
   "cell_type": "markdown",
   "metadata": {},
   "source": [
    "## Train the Neural Network\n",
    "### Single Optimization\n",
    "Implement the function `train_neural_network` to do a single optimization.  The optimization should use `optimizer` to optimize in `session` with a `feed_dict` of the following:\n",
    "* `x` for image input\n",
    "* `y` for labels\n",
    "* `keep_prob` for keep probability for dropout\n",
    "\n",
    "This function will be called for each batch, so `tf.global_variables_initializer()` has already been called.\n",
    "\n",
    "Note: Nothing needs to be returned. This function is only optimizing the neural network."
   ]
  },
  {
   "cell_type": "code",
   "execution_count": 174,
   "metadata": {
    "collapsed": false
   },
   "outputs": [
    {
     "name": "stdout",
     "output_type": "stream",
     "text": [
      "Tests Passed\n"
     ]
    }
   ],
   "source": [
    "def train_neural_network(session, optimizer, keep_probability, feature_batch, label_batch):\n",
    "    \"\"\"\n",
    "    Optimize the session on a batch of images and labels\n",
    "    : session: Current TensorFlow session\n",
    "    : optimizer: TensorFlow optimizer function\n",
    "    : keep_probability: keep probability\n",
    "    : feature_batch: Batch of Numpy image data\n",
    "    : label_batch: Batch of Numpy label data\n",
    "    \"\"\"\n",
    "    # TODO: Implement Function\n",
    "    \n",
    "    session.run(optimizer, feed_dict = {\n",
    "        x: feature_batch,\n",
    "        y: label_batch,\n",
    "        keep_prob: keep_probability\n",
    "    })\n",
    "\n",
    "\"\"\"\n",
    "DON'T MODIFY ANYTHING IN THIS CELL THAT IS BELOW THIS LINE\n",
    "\"\"\"\n",
    "tests.test_train_nn(train_neural_network)"
   ]
  },
  {
   "cell_type": "markdown",
   "metadata": {},
   "source": [
    "### Show Stats\n",
    "Implement the function `print_stats` to print loss and validation accuracy.  Use the global variables `valid_features` and `valid_labels` to calculate validation accuracy.  Use a keep probability of `1.0` to calculate the loss and validation accuracy."
   ]
  },
  {
   "cell_type": "code",
   "execution_count": 175,
   "metadata": {
    "collapsed": false
   },
   "outputs": [],
   "source": [
    "def print_stats(session, feature_batch, label_batch, cost, accuracy):\n",
    "    \"\"\"\n",
    "    Print information about loss and validation accuracy\n",
    "    : session: Current TensorFlow session\n",
    "    : feature_batch: Batch of Numpy image data\n",
    "    : label_batch: Batch of Numpy label data\n",
    "    : cost: TensorFlow cost function\n",
    "    : accuracy: TensorFlow accuracy function\n",
    "    \"\"\"\n",
    "    # TODO: Implement Function\n",
    "    cost = session.run(cost, feed_dict = {\n",
    "        x: feature_batch,\n",
    "        y: label_batch,\n",
    "        keep_prob: 1.0\n",
    "    })\n",
    "    \n",
    "    valid_accuracy = session.run(accuracy, feed_dict = {\n",
    "        x: valid_features,\n",
    "        y: valid_labels,\n",
    "        keep_prob: 1.0\n",
    "    })\n",
    "        \n",
    "        \n",
    "    print('Loss: {} Validation Accuracy: {}'.format(cost, valid_accuracy))\n",
    "\n",
    "    "
   ]
  },
  {
   "cell_type": "markdown",
   "metadata": {},
   "source": [
    "### Hyperparameters\n",
    "Tune the following parameters:\n",
    "* Set `epochs` to the number of iterations until the network stops learning or start overfitting\n",
    "* Set `batch_size` to the highest number that your machine has memory for.  Most people set them to common sizes of memory:\n",
    " * 64\n",
    " * 128\n",
    " * 256\n",
    " * ...\n",
    "* Set `keep_probability` to the probability of keeping a node using dropout"
   ]
  },
  {
   "cell_type": "code",
   "execution_count": 176,
   "metadata": {
    "collapsed": true
   },
   "outputs": [],
   "source": [
    "# TODO: Tune Parameters\n",
    "epochs = 30\n",
    "batch_size = 128\n",
    "keep_probability = 0.5"
   ]
  },
  {
   "cell_type": "markdown",
   "metadata": {},
   "source": [
    "### Train on a Single CIFAR-10 Batch\n",
    "Instead of training the neural network on all the CIFAR-10 batches of data, let's use a single batch. This should save time while you iterate on the model to get a better accuracy.  Once the final validation accuracy is 50% or greater, run the model on all the data in the next section."
   ]
  },
  {
   "cell_type": "code",
   "execution_count": 177,
   "metadata": {
    "collapsed": false,
    "scrolled": true
   },
   "outputs": [
    {
     "name": "stdout",
     "output_type": "stream",
     "text": [
      "Checking the Training on a Single Batch...\n",
      "Epoch  1, CIFAR-10 Batch 1:  Loss: 2.071939468383789 Validation Accuracy: 0.28040000796318054\n",
      "Epoch  2, CIFAR-10 Batch 1:  Loss: 1.8276840448379517 Validation Accuracy: 0.3643999993801117\n",
      "Epoch  3, CIFAR-10 Batch 1:  Loss: 1.644248604774475 Validation Accuracy: 0.4325999915599823\n",
      "Epoch  4, CIFAR-10 Batch 1:  Loss: 1.523277997970581 Validation Accuracy: 0.4731999933719635\n",
      "Epoch  5, CIFAR-10 Batch 1:  Loss: 1.3740928173065186 Validation Accuracy: 0.47780001163482666\n",
      "Epoch  6, CIFAR-10 Batch 1:  Loss: 1.289556622505188 Validation Accuracy: 0.49219998717308044\n",
      "Epoch  7, CIFAR-10 Batch 1:  Loss: 1.2285511493682861 Validation Accuracy: 0.5090000033378601\n",
      "Epoch  8, CIFAR-10 Batch 1:  Loss: 1.1586172580718994 Validation Accuracy: 0.5194000005722046\n",
      "Epoch  9, CIFAR-10 Batch 1:  Loss: 1.0951271057128906 Validation Accuracy: 0.5252000093460083\n",
      "Epoch 10, CIFAR-10 Batch 1:  Loss: 1.0340681076049805 Validation Accuracy: 0.5307999849319458\n",
      "Epoch 11, CIFAR-10 Batch 1:  Loss: 0.976883053779602 Validation Accuracy: 0.5315999984741211\n",
      "Epoch 12, CIFAR-10 Batch 1:  Loss: 0.9156265258789062 Validation Accuracy: 0.5378000140190125\n",
      "Epoch 13, CIFAR-10 Batch 1:  Loss: 0.8637744784355164 Validation Accuracy: 0.5411999821662903\n",
      "Epoch 14, CIFAR-10 Batch 1:  Loss: 0.8192593455314636 Validation Accuracy: 0.5424000024795532\n",
      "Epoch 15, CIFAR-10 Batch 1:  Loss: 0.7752026319503784 Validation Accuracy: 0.5468000173568726\n",
      "Epoch 16, CIFAR-10 Batch 1:  Loss: 0.7370074987411499 Validation Accuracy: 0.5482000112533569\n",
      "Epoch 17, CIFAR-10 Batch 1:  Loss: 0.7063060998916626 Validation Accuracy: 0.548799991607666\n",
      "Epoch 18, CIFAR-10 Batch 1:  Loss: 0.6757556796073914 Validation Accuracy: 0.5478000044822693\n",
      "Epoch 19, CIFAR-10 Batch 1:  Loss: 0.6511553525924683 Validation Accuracy: 0.545799970626831\n",
      "Epoch 20, CIFAR-10 Batch 1:  Loss: 0.6302083730697632 Validation Accuracy: 0.5443999767303467\n",
      "Epoch 21, CIFAR-10 Batch 1:  Loss: 0.6070008277893066 Validation Accuracy: 0.5450000166893005\n",
      "Epoch 22, CIFAR-10 Batch 1:  Loss: 0.5854082703590393 Validation Accuracy: 0.5464000105857849\n",
      "Epoch 23, CIFAR-10 Batch 1:  Loss: 0.5651291012763977 Validation Accuracy: 0.5486000180244446\n",
      "Epoch 24, CIFAR-10 Batch 1:  Loss: 0.5467052459716797 Validation Accuracy: 0.5508000254631042\n",
      "Epoch 25, CIFAR-10 Batch 1:  Loss: 0.524808943271637 Validation Accuracy: 0.5537999868392944\n",
      "Epoch 26, CIFAR-10 Batch 1:  Loss: 0.5051897168159485 Validation Accuracy: 0.5564000010490417\n",
      "Epoch 27, CIFAR-10 Batch 1:  Loss: 0.48677030205726624 Validation Accuracy: 0.5541999936103821\n",
      "Epoch 28, CIFAR-10 Batch 1:  Loss: 0.4678867757320404 Validation Accuracy: 0.5537999868392944\n",
      "Epoch 29, CIFAR-10 Batch 1:  Loss: 0.44879546761512756 Validation Accuracy: 0.5527999997138977\n",
      "Epoch 30, CIFAR-10 Batch 1:  Loss: 0.43083620071411133 Validation Accuracy: 0.5522000193595886\n"
     ]
    }
   ],
   "source": [
    "\"\"\"\n",
    "DON'T MODIFY ANYTHING IN THIS CELL\n",
    "\"\"\"\n",
    "print('Checking the Training on a Single Batch...')\n",
    "with tf.Session() as sess:\n",
    "    # Initializing the variables\n",
    "    sess.run(tf.global_variables_initializer())\n",
    "    \n",
    "    # Training cycle\n",
    "    for epoch in range(epochs):\n",
    "        batch_i = 1\n",
    "        for batch_features, batch_labels in helper.load_preprocess_training_batch(batch_i, batch_size):\n",
    "            train_neural_network(sess, optimizer, keep_probability, batch_features, batch_labels)\n",
    "        print('Epoch {:>2}, CIFAR-10 Batch {}:  '.format(epoch + 1, batch_i), end='')\n",
    "        print_stats(sess, batch_features, batch_labels, cost, accuracy)"
   ]
  },
  {
   "cell_type": "markdown",
   "metadata": {},
   "source": [
    "### Fully Train the Model\n",
    "Now that you got a good accuracy with a single CIFAR-10 batch, try it with all five batches."
   ]
  },
  {
   "cell_type": "code",
   "execution_count": 178,
   "metadata": {
    "collapsed": false,
    "scrolled": true
   },
   "outputs": [
    {
     "name": "stdout",
     "output_type": "stream",
     "text": [
      "Training...\n",
      "Epoch  1, CIFAR-10 Batch 1:  Loss: 2.188053607940674 Validation Accuracy: 0.21320000290870667\n",
      "Epoch  1, CIFAR-10 Batch 2:  Loss: 2.1038496494293213 Validation Accuracy: 0.2777999937534332\n",
      "Epoch  1, CIFAR-10 Batch 3:  Loss: 1.8579895496368408 Validation Accuracy: 0.2980000078678131\n",
      "Epoch  1, CIFAR-10 Batch 4:  Loss: 1.7185605764389038 Validation Accuracy: 0.3255999982357025\n",
      "Epoch  1, CIFAR-10 Batch 5:  Loss: 1.6066592931747437 Validation Accuracy: 0.3540000021457672\n",
      "Epoch  2, CIFAR-10 Batch 1:  Loss: 1.787899374961853 Validation Accuracy: 0.37220001220703125\n",
      "Epoch  2, CIFAR-10 Batch 2:  Loss: 1.5080699920654297 Validation Accuracy: 0.41600000858306885\n",
      "Epoch  2, CIFAR-10 Batch 3:  Loss: 1.5439773797988892 Validation Accuracy: 0.4406000077724457\n",
      "Epoch  2, CIFAR-10 Batch 4:  Loss: 1.5277585983276367 Validation Accuracy: 0.4611999988555908\n",
      "Epoch  2, CIFAR-10 Batch 5:  Loss: 1.3676974773406982 Validation Accuracy: 0.4790000021457672\n",
      "Epoch  3, CIFAR-10 Batch 1:  Loss: 1.6399482488632202 Validation Accuracy: 0.4779999852180481\n",
      "Epoch  3, CIFAR-10 Batch 2:  Loss: 1.368333101272583 Validation Accuracy: 0.492000013589859\n",
      "Epoch  3, CIFAR-10 Batch 3:  Loss: 1.3263168334960938 Validation Accuracy: 0.4878000020980835\n",
      "Epoch  3, CIFAR-10 Batch 4:  Loss: 1.481379508972168 Validation Accuracy: 0.4875999987125397\n",
      "Epoch  3, CIFAR-10 Batch 5:  Loss: 1.245764970779419 Validation Accuracy: 0.4950000047683716\n",
      "Epoch  4, CIFAR-10 Batch 1:  Loss: 1.4967374801635742 Validation Accuracy: 0.520799994468689\n",
      "Epoch  4, CIFAR-10 Batch 2:  Loss: 1.2546252012252808 Validation Accuracy: 0.5206000208854675\n",
      "Epoch  4, CIFAR-10 Batch 3:  Loss: 1.1692781448364258 Validation Accuracy: 0.5149999856948853\n",
      "Epoch  4, CIFAR-10 Batch 4:  Loss: 1.3660128116607666 Validation Accuracy: 0.5231999754905701\n",
      "Epoch  4, CIFAR-10 Batch 5:  Loss: 1.1237103939056396 Validation Accuracy: 0.521399974822998\n",
      "Epoch  5, CIFAR-10 Batch 1:  Loss: 1.3534584045410156 Validation Accuracy: 0.5347999930381775\n",
      "Epoch  5, CIFAR-10 Batch 2:  Loss: 1.1822471618652344 Validation Accuracy: 0.5284000039100647\n",
      "Epoch  5, CIFAR-10 Batch 3:  Loss: 1.064279317855835 Validation Accuracy: 0.5260000228881836\n",
      "Epoch  5, CIFAR-10 Batch 4:  Loss: 1.2848920822143555 Validation Accuracy: 0.5411999821662903\n",
      "Epoch  5, CIFAR-10 Batch 5:  Loss: 1.0515056848526 Validation Accuracy: 0.5356000065803528\n",
      "Epoch  6, CIFAR-10 Batch 1:  Loss: 1.2452058792114258 Validation Accuracy: 0.5447999835014343\n",
      "Epoch  6, CIFAR-10 Batch 2:  Loss: 1.1232147216796875 Validation Accuracy: 0.5422000288963318\n",
      "Epoch  6, CIFAR-10 Batch 3:  Loss: 1.0006513595581055 Validation Accuracy: 0.5339999794960022\n",
      "Epoch  6, CIFAR-10 Batch 4:  Loss: 1.221380591392517 Validation Accuracy: 0.5490000247955322\n",
      "Epoch  6, CIFAR-10 Batch 5:  Loss: 0.9957923889160156 Validation Accuracy: 0.5393999814987183\n",
      "Epoch  7, CIFAR-10 Batch 1:  Loss: 1.1727817058563232 Validation Accuracy: 0.5509999990463257\n",
      "Epoch  7, CIFAR-10 Batch 2:  Loss: 1.0692698955535889 Validation Accuracy: 0.5455999970436096\n",
      "Epoch  7, CIFAR-10 Batch 3:  Loss: 0.9537213444709778 Validation Accuracy: 0.5428000092506409\n",
      "Epoch  7, CIFAR-10 Batch 4:  Loss: 1.1727817058563232 Validation Accuracy: 0.5551999807357788\n",
      "Epoch  7, CIFAR-10 Batch 5:  Loss: 0.9410125613212585 Validation Accuracy: 0.5443999767303467\n",
      "Epoch  8, CIFAR-10 Batch 1:  Loss: 1.1300733089447021 Validation Accuracy: 0.5519999861717224\n",
      "Epoch  8, CIFAR-10 Batch 2:  Loss: 1.021620512008667 Validation Accuracy: 0.5497999787330627\n",
      "Epoch  8, CIFAR-10 Batch 3:  Loss: 0.9227821230888367 Validation Accuracy: 0.5443999767303467\n",
      "Epoch  8, CIFAR-10 Batch 4:  Loss: 1.1328580379486084 Validation Accuracy: 0.5591999888420105\n",
      "Epoch  8, CIFAR-10 Batch 5:  Loss: 0.9249677658081055 Validation Accuracy: 0.5508000254631042\n",
      "Epoch  9, CIFAR-10 Batch 1:  Loss: 1.0850417613983154 Validation Accuracy: 0.5582000017166138\n",
      "Epoch  9, CIFAR-10 Batch 2:  Loss: 0.9831787943840027 Validation Accuracy: 0.5565999746322632\n",
      "Epoch  9, CIFAR-10 Batch 3:  Loss: 0.8956875801086426 Validation Accuracy: 0.5465999841690063\n",
      "Epoch  9, CIFAR-10 Batch 4:  Loss: 1.0958082675933838 Validation Accuracy: 0.5612000226974487\n",
      "Epoch  9, CIFAR-10 Batch 5:  Loss: 0.8959689140319824 Validation Accuracy: 0.5558000206947327\n",
      "Epoch 10, CIFAR-10 Batch 1:  Loss: 1.0507707595825195 Validation Accuracy: 0.5633999705314636\n",
      "Epoch 10, CIFAR-10 Batch 2:  Loss: 0.9523623585700989 Validation Accuracy: 0.5577999949455261\n",
      "Epoch 10, CIFAR-10 Batch 3:  Loss: 0.8796178102493286 Validation Accuracy: 0.5497999787330627\n",
      "Epoch 10, CIFAR-10 Batch 4:  Loss: 1.0668461322784424 Validation Accuracy: 0.5648000240325928\n",
      "Epoch 10, CIFAR-10 Batch 5:  Loss: 0.8690671920776367 Validation Accuracy: 0.557200014591217\n",
      "Epoch 11, CIFAR-10 Batch 1:  Loss: 1.0298360586166382 Validation Accuracy: 0.5684000253677368\n",
      "Epoch 11, CIFAR-10 Batch 2:  Loss: 0.9295080900192261 Validation Accuracy: 0.5612000226974487\n",
      "Epoch 11, CIFAR-10 Batch 3:  Loss: 0.8730519413948059 Validation Accuracy: 0.5522000193595886\n",
      "Epoch 11, CIFAR-10 Batch 4:  Loss: 1.043218970298767 Validation Accuracy: 0.5672000050544739\n",
      "Epoch 11, CIFAR-10 Batch 5:  Loss: 0.8475452661514282 Validation Accuracy: 0.5591999888420105\n",
      "Epoch 12, CIFAR-10 Batch 1:  Loss: 1.010915994644165 Validation Accuracy: 0.5694000124931335\n",
      "Epoch 12, CIFAR-10 Batch 2:  Loss: 0.9025958180427551 Validation Accuracy: 0.5648000240325928\n",
      "Epoch 12, CIFAR-10 Batch 3:  Loss: 0.8687702417373657 Validation Accuracy: 0.5573999881744385\n",
      "Epoch 12, CIFAR-10 Batch 4:  Loss: 1.0299018621444702 Validation Accuracy: 0.5637999773025513\n",
      "Epoch 12, CIFAR-10 Batch 5:  Loss: 0.8249732255935669 Validation Accuracy: 0.5590000152587891\n",
      "Epoch 13, CIFAR-10 Batch 1:  Loss: 0.9961211085319519 Validation Accuracy: 0.5741999745368958\n",
      "Epoch 13, CIFAR-10 Batch 2:  Loss: 0.8784027099609375 Validation Accuracy: 0.5667999982833862\n",
      "Epoch 13, CIFAR-10 Batch 3:  Loss: 0.8518844842910767 Validation Accuracy: 0.5582000017166138\n",
      "Epoch 13, CIFAR-10 Batch 4:  Loss: 1.0083904266357422 Validation Accuracy: 0.5667999982833862\n",
      "Epoch 13, CIFAR-10 Batch 5:  Loss: 0.8021863698959351 Validation Accuracy: 0.5626000165939331\n",
      "Epoch 14, CIFAR-10 Batch 1:  Loss: 0.977081298828125 Validation Accuracy: 0.576200008392334\n",
      "Epoch 14, CIFAR-10 Batch 2:  Loss: 0.8529443740844727 Validation Accuracy: 0.5663999915122986\n",
      "Epoch 14, CIFAR-10 Batch 3:  Loss: 0.8297263383865356 Validation Accuracy: 0.5591999888420105\n",
      "Epoch 14, CIFAR-10 Batch 4:  Loss: 0.9806262850761414 Validation Accuracy: 0.5654000043869019\n",
      "Epoch 14, CIFAR-10 Batch 5:  Loss: 0.7790854573249817 Validation Accuracy: 0.5644000172615051\n",
      "Epoch 15, CIFAR-10 Batch 1:  Loss: 0.9534853100776672 Validation Accuracy: 0.5788000226020813\n",
      "Epoch 15, CIFAR-10 Batch 2:  Loss: 0.8304809331893921 Validation Accuracy: 0.5690000057220459\n",
      "Epoch 15, CIFAR-10 Batch 3:  Loss: 0.8038778305053711 Validation Accuracy: 0.5605999827384949\n",
      "Epoch 15, CIFAR-10 Batch 4:  Loss: 0.9564194679260254 Validation Accuracy: 0.5691999793052673\n",
      "Epoch 15, CIFAR-10 Batch 5:  Loss: 0.7588915824890137 Validation Accuracy: 0.5667999982833862\n",
      "Epoch 16, CIFAR-10 Batch 1:  Loss: 0.9281185269355774 Validation Accuracy: 0.5803999900817871\n",
      "Epoch 16, CIFAR-10 Batch 2:  Loss: 0.8028222322463989 Validation Accuracy: 0.5698000192642212\n",
      "Epoch 16, CIFAR-10 Batch 3:  Loss: 0.7800156474113464 Validation Accuracy: 0.5649999976158142\n",
      "Epoch 16, CIFAR-10 Batch 4:  Loss: 0.9341815114021301 Validation Accuracy: 0.5691999793052673\n",
      "Epoch 16, CIFAR-10 Batch 5:  Loss: 0.7398838400840759 Validation Accuracy: 0.5703999996185303\n",
      "Epoch 17, CIFAR-10 Batch 1:  Loss: 0.8971135020256042 Validation Accuracy: 0.5825999975204468\n",
      "Epoch 17, CIFAR-10 Batch 2:  Loss: 0.7781375050544739 Validation Accuracy: 0.5709999799728394\n",
      "Epoch 17, CIFAR-10 Batch 3:  Loss: 0.7575331926345825 Validation Accuracy: 0.5705999732017517\n",
      "Epoch 17, CIFAR-10 Batch 4:  Loss: 0.9116895794868469 Validation Accuracy: 0.5709999799728394\n",
      "Epoch 17, CIFAR-10 Batch 5:  Loss: 0.7196502089500427 Validation Accuracy: 0.574400007724762\n",
      "Epoch 18, CIFAR-10 Batch 1:  Loss: 0.8682999610900879 Validation Accuracy: 0.5806000232696533\n",
      "Epoch 18, CIFAR-10 Batch 2:  Loss: 0.7529284954071045 Validation Accuracy: 0.5752000212669373\n",
      "Epoch 18, CIFAR-10 Batch 3:  Loss: 0.7397806644439697 Validation Accuracy: 0.5720000267028809\n",
      "Epoch 18, CIFAR-10 Batch 4:  Loss: 0.8917689323425293 Validation Accuracy: 0.5716000199317932\n",
      "Epoch 18, CIFAR-10 Batch 5:  Loss: 0.7008166313171387 Validation Accuracy: 0.5738000273704529\n",
      "Epoch 19, CIFAR-10 Batch 1:  Loss: 0.842490017414093 Validation Accuracy: 0.5803999900817871\n",
      "Epoch 19, CIFAR-10 Batch 2:  Loss: 0.7263475656509399 Validation Accuracy: 0.5763999819755554\n",
      "Epoch 19, CIFAR-10 Batch 3:  Loss: 0.7202061414718628 Validation Accuracy: 0.5730000138282776\n",
      "Epoch 19, CIFAR-10 Batch 4:  Loss: 0.8707712292671204 Validation Accuracy: 0.5694000124931335\n",
      "Epoch 19, CIFAR-10 Batch 5:  Loss: 0.6797147393226624 Validation Accuracy: 0.5752000212669373\n",
      "Epoch 20, CIFAR-10 Batch 1:  Loss: 0.8160960078239441 Validation Accuracy: 0.5806000232696533\n",
      "Epoch 20, CIFAR-10 Batch 2:  Loss: 0.6996434926986694 Validation Accuracy: 0.5776000022888184\n",
      "Epoch 20, CIFAR-10 Batch 3:  Loss: 0.7001086473464966 Validation Accuracy: 0.5727999806404114\n",
      "Epoch 20, CIFAR-10 Batch 4:  Loss: 0.8491414189338684 Validation Accuracy: 0.5694000124931335\n",
      "Epoch 20, CIFAR-10 Batch 5:  Loss: 0.6613341569900513 Validation Accuracy: 0.571399986743927\n",
      "Epoch 21, CIFAR-10 Batch 1:  Loss: 0.7913193106651306 Validation Accuracy: 0.5825999975204468\n",
      "Epoch 21, CIFAR-10 Batch 2:  Loss: 0.6802231669425964 Validation Accuracy: 0.5785999894142151\n",
      "Epoch 21, CIFAR-10 Batch 3:  Loss: 0.6766911745071411 Validation Accuracy: 0.576200008392334\n",
      "Epoch 21, CIFAR-10 Batch 4:  Loss: 0.8202974200248718 Validation Accuracy: 0.5720000267028809\n",
      "Epoch 21, CIFAR-10 Batch 5:  Loss: 0.6442323923110962 Validation Accuracy: 0.5727999806404114\n",
      "Epoch 22, CIFAR-10 Batch 1:  Loss: 0.7625715136528015 Validation Accuracy: 0.5820000171661377\n",
      "Epoch 22, CIFAR-10 Batch 2:  Loss: 0.6598555445671082 Validation Accuracy: 0.5789999961853027\n",
      "Epoch 22, CIFAR-10 Batch 3:  Loss: 0.6587620973587036 Validation Accuracy: 0.5756000280380249\n",
      "Epoch 22, CIFAR-10 Batch 4:  Loss: 0.7970449924468994 Validation Accuracy: 0.5723999738693237\n",
      "Epoch 22, CIFAR-10 Batch 5:  Loss: 0.6266725659370422 Validation Accuracy: 0.5716000199317932\n",
      "Epoch 23, CIFAR-10 Batch 1:  Loss: 0.7447801828384399 Validation Accuracy: 0.579800009727478\n",
      "Epoch 23, CIFAR-10 Batch 2:  Loss: 0.6418816447257996 Validation Accuracy: 0.5809999704360962\n",
      "Epoch 23, CIFAR-10 Batch 3:  Loss: 0.6420798301696777 Validation Accuracy: 0.5771999955177307\n",
      "Epoch 23, CIFAR-10 Batch 4:  Loss: 0.771158754825592 Validation Accuracy: 0.5758000016212463\n",
      "Epoch 23, CIFAR-10 Batch 5:  Loss: 0.6103806495666504 Validation Accuracy: 0.573199987411499\n",
      "Epoch 24, CIFAR-10 Batch 1:  Loss: 0.7251452207565308 Validation Accuracy: 0.5830000042915344\n",
      "Epoch 24, CIFAR-10 Batch 2:  Loss: 0.6233603358268738 Validation Accuracy: 0.5825999975204468\n",
      "Epoch 24, CIFAR-10 Batch 3:  Loss: 0.6259583234786987 Validation Accuracy: 0.5763999819755554\n",
      "Epoch 24, CIFAR-10 Batch 4:  Loss: 0.7467440366744995 Validation Accuracy: 0.576200008392334\n",
      "Epoch 24, CIFAR-10 Batch 5:  Loss: 0.5934553742408752 Validation Accuracy: 0.5756000280380249\n",
      "Epoch 25, CIFAR-10 Batch 1:  Loss: 0.7022426724433899 Validation Accuracy: 0.5860000252723694\n",
      "Epoch 25, CIFAR-10 Batch 2:  Loss: 0.6071195006370544 Validation Accuracy: 0.58160001039505\n",
      "Epoch 25, CIFAR-10 Batch 3:  Loss: 0.6087175011634827 Validation Accuracy: 0.5774000287055969\n",
      "Epoch 25, CIFAR-10 Batch 4:  Loss: 0.7297465205192566 Validation Accuracy: 0.5766000151634216\n",
      "Epoch 25, CIFAR-10 Batch 5:  Loss: 0.5784276723861694 Validation Accuracy: 0.5752000212669373\n",
      "Epoch 26, CIFAR-10 Batch 1:  Loss: 0.6793535947799683 Validation Accuracy: 0.5861999988555908\n",
      "Epoch 26, CIFAR-10 Batch 2:  Loss: 0.5910772681236267 Validation Accuracy: 0.5820000171661377\n",
      "Epoch 26, CIFAR-10 Batch 3:  Loss: 0.59422367811203 Validation Accuracy: 0.5766000151634216\n",
      "Epoch 26, CIFAR-10 Batch 4:  Loss: 0.7119137048721313 Validation Accuracy: 0.5748000144958496\n",
      "Epoch 26, CIFAR-10 Batch 5:  Loss: 0.5650524497032166 Validation Accuracy: 0.5745999813079834\n",
      "Epoch 27, CIFAR-10 Batch 1:  Loss: 0.6624265909194946 Validation Accuracy: 0.5849999785423279\n",
      "Epoch 27, CIFAR-10 Batch 2:  Loss: 0.5751892328262329 Validation Accuracy: 0.5830000042915344\n",
      "Epoch 27, CIFAR-10 Batch 3:  Loss: 0.5796300768852234 Validation Accuracy: 0.5776000022888184\n",
      "Epoch 27, CIFAR-10 Batch 4:  Loss: 0.692284345626831 Validation Accuracy: 0.5745999813079834\n",
      "Epoch 27, CIFAR-10 Batch 5:  Loss: 0.549081027507782 Validation Accuracy: 0.5752000212669373\n",
      "Epoch 28, CIFAR-10 Batch 1:  Loss: 0.6419339776039124 Validation Accuracy: 0.5878000259399414\n",
      "Epoch 28, CIFAR-10 Batch 2:  Loss: 0.5612452030181885 Validation Accuracy: 0.5860000252723694\n",
      "Epoch 28, CIFAR-10 Batch 3:  Loss: 0.5621836185455322 Validation Accuracy: 0.5776000022888184\n",
      "Epoch 28, CIFAR-10 Batch 4:  Loss: 0.6715027093887329 Validation Accuracy: 0.5745999813079834\n",
      "Epoch 28, CIFAR-10 Batch 5:  Loss: 0.5340874791145325 Validation Accuracy: 0.5748000144958496\n",
      "Epoch 29, CIFAR-10 Batch 1:  Loss: 0.6174241304397583 Validation Accuracy: 0.5875999927520752\n",
      "Epoch 29, CIFAR-10 Batch 2:  Loss: 0.5472826957702637 Validation Accuracy: 0.5881999731063843\n",
      "Epoch 29, CIFAR-10 Batch 3:  Loss: 0.5449129939079285 Validation Accuracy: 0.5776000022888184\n",
      "Epoch 29, CIFAR-10 Batch 4:  Loss: 0.6566749811172485 Validation Accuracy: 0.5740000009536743\n",
      "Epoch 29, CIFAR-10 Batch 5:  Loss: 0.5194394588470459 Validation Accuracy: 0.5763999819755554\n",
      "Epoch 30, CIFAR-10 Batch 1:  Loss: 0.6057279109954834 Validation Accuracy: 0.5867999792098999\n",
      "Epoch 30, CIFAR-10 Batch 2:  Loss: 0.5331714749336243 Validation Accuracy: 0.5871999859809875\n",
      "Epoch 30, CIFAR-10 Batch 3:  Loss: 0.5261684656143188 Validation Accuracy: 0.5781999826431274\n",
      "Epoch 30, CIFAR-10 Batch 4:  Loss: 0.6380481123924255 Validation Accuracy: 0.574999988079071\n",
      "Epoch 30, CIFAR-10 Batch 5:  Loss: 0.505334198474884 Validation Accuracy: 0.5771999955177307\n"
     ]
    }
   ],
   "source": [
    "\"\"\"\n",
    "DON'T MODIFY ANYTHING IN THIS CELL\n",
    "\"\"\"\n",
    "save_model_path = './image_classification'\n",
    "\n",
    "print('Training...')\n",
    "with tf.Session() as sess:\n",
    "    # Initializing the variables\n",
    "    sess.run(tf.global_variables_initializer())\n",
    "    \n",
    "    # Training cycle\n",
    "    for epoch in range(epochs):\n",
    "        # Loop over all batches\n",
    "        n_batches = 5\n",
    "        for batch_i in range(1, n_batches + 1):\n",
    "            for batch_features, batch_labels in helper.load_preprocess_training_batch(batch_i, batch_size):\n",
    "                train_neural_network(sess, optimizer, keep_probability, batch_features, batch_labels)\n",
    "            print('Epoch {:>2}, CIFAR-10 Batch {}:  '.format(epoch + 1, batch_i), end='')\n",
    "            print_stats(sess, batch_features, batch_labels, cost, accuracy)\n",
    "            \n",
    "    # Save Model\n",
    "    saver = tf.train.Saver()\n",
    "    save_path = saver.save(sess, save_model_path)"
   ]
  },
  {
   "cell_type": "markdown",
   "metadata": {},
   "source": [
    "# Checkpoint\n",
    "The model has been saved to disk.\n",
    "## Test Model\n",
    "Test your model against the test dataset.  This will be your final accuracy. You should have an accuracy greater than 50%. If you don't, keep tweaking the model architecture and parameters."
   ]
  },
  {
   "cell_type": "code",
   "execution_count": 179,
   "metadata": {
    "collapsed": false
   },
   "outputs": [
    {
     "name": "stdout",
     "output_type": "stream",
     "text": [
      "Testing Accuracy: 0.5858386075949367\n",
      "\n"
     ]
    },
    {
     "data": {
      "image/png": "[encoded data removed]",
      "text/plain": [
       "<matplotlib.figure.Figure at 0xcbaf860>"
      ]
     },
     "metadata": {
      "image/png": {
       "height": 319,
       "width": 355
      }
     },
     "output_type": "display_data"
    }
   ],
   "source": [
    "\"\"\"\n",
    "DON'T MODIFY ANYTHING IN THIS CELL\n",
    "\"\"\"\n",
    "%matplotlib inline\n",
    "%config InlineBackend.figure_format = 'retina'\n",
    "\n",
    "import tensorflow as tf\n",
    "import pickle\n",
    "import helper\n",
    "import random\n",
    "\n",
    "# Set batch size if not already set\n",
    "try:\n",
    "    if batch_size:\n",
    "        pass\n",
    "except NameError:\n",
    "    batch_size = 64\n",
    "\n",
    "save_model_path = './image_classification'\n",
    "n_samples = 4\n",
    "top_n_predictions = 3\n",
    "\n",
    "def test_model():\n",
    "    \"\"\"\n",
    "    Test the saved model against the test dataset\n",
    "    \"\"\"\n",
    "\n",
    "    test_features, test_labels = pickle.load(open('preprocess_training.p', mode='rb'))\n",
    "    loaded_graph = tf.Graph()\n",
    "\n",
    "    with tf.Session(graph=loaded_graph) as sess:\n",
    "        # Load model\n",
    "        loader = tf.train.import_meta_graph(save_model_path + '.meta')\n",
    "        loader.restore(sess, save_model_path)\n",
    "\n",
    "        # Get Tensors from loaded model\n",
    "        loaded_x = loaded_graph.get_tensor_by_name('x:0')\n",
    "        loaded_y = loaded_graph.get_tensor_by_name('y:0')\n",
    "        loaded_keep_prob = loaded_graph.get_tensor_by_name('keep_prob:0')\n",
    "        loaded_logits = loaded_graph.get_tensor_by_name('logits:0')\n",
    "        loaded_acc = loaded_graph.get_tensor_by_name('accuracy:0')\n",
    "        \n",
    "        # Get accuracy in batches for memory limitations\n",
    "        test_batch_acc_total = 0\n",
    "        test_batch_count = 0\n",
    "        \n",
    "        for train_feature_batch, train_label_batch in helper.batch_features_labels(test_features, test_labels, batch_size):\n",
    "            test_batch_acc_total += sess.run(\n",
    "                loaded_acc,\n",
    "                feed_dict={loaded_x: train_feature_batch, loaded_y: train_label_batch, loaded_keep_prob: 1.0})\n",
    "            test_batch_count += 1\n",
    "\n",
    "        print('Testing Accuracy: {}\\n'.format(test_batch_acc_total/test_batch_count))\n",
    "\n",
    "        # Print Random Samples\n",
    "        random_test_features, random_test_labels = tuple(zip(*random.sample(list(zip(test_features, test_labels)), n_samples)))\n",
    "        random_test_predictions = sess.run(\n",
    "            tf.nn.top_k(tf.nn.softmax(loaded_logits), top_n_predictions),\n",
    "            feed_dict={loaded_x: random_test_features, loaded_y: random_test_labels, loaded_keep_prob: 1.0})\n",
    "        helper.display_image_predictions(random_test_features, random_test_labels, random_test_predictions)\n",
    "\n",
    "\n",
    "test_model()"
   ]
  },
  {
   "cell_type": "markdown",
   "metadata": {},
   "source": [
    "## Why 50-70% Accuracy?\n",
    "You might be wondering why you can't get an accuracy any higher. First things first, 50% isn't bad for a simple CNN.  Pure guessing would get you 10% accuracy. However, you might notice people are getting scores [well above 70%](http://rodrigob.github.io/are_we_there_yet/build/classification_datasets_results.html#43494641522d3130).  That's because we haven't taught you all there is to know about neural networks. We still need to cover a few more techniques.\n",
    "## Submitting This Project\n",
    "When submitting this project, make sure to run all the cells before saving the notebook.  Save the notebook file as \"dlnd_image_classification.ipynb\" and save it as a HTML file under \"File\" -> \"Download as\".  Include the \"helper.py\" and \"problem_unittests.py\" files in your submission."
   ]
  },
  {
   "cell_type": "code",
   "execution_count": null,
   "metadata": {
    "collapsed": true
   },
   "outputs": [],
   "source": []
  },
  {
   "cell_type": "code",
   "execution_count": null,
   "metadata": {
    "collapsed": true
   },
   "outputs": [],
   "source": []
  }
 ],
 "metadata": {
  "kernelspec": {
   "display_name": "Python 3",
   "language": "python",
   "name": "python3"
  },
  "language_info": {
   "codemirror_mode": {
    "name": "ipython",
    "version": 3
   },
   "file_extension": ".py",
   "mimetype": "text/x-python",
   "name": "python",
   "nbconvert_exporter": "python",
   "pygments_lexer": "ipython3",
   "version": "3.5.3"
  }
 },
 "nbformat": 4,
 "nbformat_minor": 0
}
